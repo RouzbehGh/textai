{
 "cells": [
  {
   "cell_type": "code",
   "execution_count": 2,
   "metadata": {
    "Collapsed": "false",
    "colab": {
     "base_uri": "https://localhost:8080/",
     "height": 127
    },
    "colab_type": "code",
    "executionInfo": {
     "elapsed": 33466,
     "status": "ok",
     "timestamp": 1578081041874,
     "user": {
      "displayName": "Oleg Polakow",
      "photoUrl": "https://lh4.googleusercontent.com/-OxrfQHAWmSQ/AAAAAAAAAAI/AAAAAAAABR4/cis0IgU-Avs/s64/photo.jpg",
      "userId": "08729449616485726726"
     },
     "user_tz": -60
    },
    "id": "V2XzXkDUP_6W",
    "outputId": "ee87788d-9830-49b2-b730-ec9ba0392432"
   },
   "outputs": [
    {
     "name": "stdout",
     "output_type": "stream",
     "text": [
      "Go to this URL in a browser: https://accounts.google.com/o/oauth2/auth?client_id=947318989803-6bn6qk8qdgf4n4g3pfee6491hc0brc4i.apps.googleusercontent.com&redirect_uri=urn%3aietf%3awg%3aoauth%3a2.0%3aoob&response_type=code&scope=email%20https%3a%2f%2fwww.googleapis.com%2fauth%2fdocs.test%20https%3a%2f%2fwww.googleapis.com%2fauth%2fdrive%20https%3a%2f%2fwww.googleapis.com%2fauth%2fdrive.photos.readonly%20https%3a%2f%2fwww.googleapis.com%2fauth%2fpeopleapi.readonly\n",
      "\n",
      "Enter your authorization code:\n",
      "··········\n",
      "Mounted at /content/drive\n"
     ]
    }
   ],
   "source": [
    "from google.colab import drive\n",
    "\n",
    "drive.mount('/content/drive')"
   ]
  },
  {
   "cell_type": "code",
   "execution_count": 3,
   "metadata": {
    "Collapsed": "false",
    "colab": {
     "base_uri": "https://localhost:8080/",
     "height": 631
    },
    "colab_type": "code",
    "executionInfo": {
     "elapsed": 41617,
     "status": "ok",
     "timestamp": 1578081050038,
     "user": {
      "displayName": "Oleg Polakow",
      "photoUrl": "https://lh4.googleusercontent.com/-OxrfQHAWmSQ/AAAAAAAAAAI/AAAAAAAABR4/cis0IgU-Avs/s64/photo.jpg",
      "userId": "08729449616485726726"
     },
     "user_tz": -60
    },
    "id": "BI0HJ5g2xZI_",
    "outputId": "f1f40578-e688-4358-c845-6806cb502538"
   },
   "outputs": [
    {
     "name": "stdout",
     "output_type": "stream",
     "text": [
      "Collecting transformers==2.1.1\n",
      "\u001b[?25l  Downloading https://files.pythonhosted.org/packages/fd/f9/51824e40f0a23a49eab4fcaa45c1c797cbf9761adedd0b558dab7c958b34/transformers-2.1.1-py3-none-any.whl (311kB)\n",
      "\u001b[K     |████████████████████████████████| 317kB 6.4MB/s eta 0:00:01\n",
      "\u001b[?25hRequirement already satisfied: regex in /usr/local/lib/python3.6/dist-packages (from transformers==2.1.1) (2019.12.9)\n",
      "Requirement already satisfied: numpy in /usr/local/lib/python3.6/dist-packages (from transformers==2.1.1) (1.17.4)\n",
      "Requirement already satisfied: requests in /usr/local/lib/python3.6/dist-packages (from transformers==2.1.1) (2.21.0)\n",
      "Requirement already satisfied: tqdm in /usr/local/lib/python3.6/dist-packages (from transformers==2.1.1) (4.28.1)\n",
      "Collecting sacremoses\n",
      "\u001b[?25l  Downloading https://files.pythonhosted.org/packages/1f/8e/ed5364a06a9ba720fddd9820155cc57300d28f5f43a6fd7b7e817177e642/sacremoses-0.0.35.tar.gz (859kB)\n",
      "\u001b[K     |████████████████████████████████| 860kB 20.6MB/s \n",
      "\u001b[?25hCollecting sentencepiece\n",
      "\u001b[?25l  Downloading https://files.pythonhosted.org/packages/74/f4/2d5214cbf13d06e7cb2c20d84115ca25b53ea76fa1f0ade0e3c9749de214/sentencepiece-0.1.85-cp36-cp36m-manylinux1_x86_64.whl (1.0MB)\n",
      "\u001b[K     |████████████████████████████████| 1.0MB 31.7MB/s \n",
      "\u001b[?25hRequirement already satisfied: boto3 in /usr/local/lib/python3.6/dist-packages (from transformers==2.1.1) (1.10.40)\n",
      "Requirement already satisfied: urllib3<1.25,>=1.21.1 in /usr/local/lib/python3.6/dist-packages (from requests->transformers==2.1.1) (1.24.3)\n",
      "Requirement already satisfied: certifi>=2017.4.17 in /usr/local/lib/python3.6/dist-packages (from requests->transformers==2.1.1) (2019.11.28)\n",
      "Requirement already satisfied: chardet<3.1.0,>=3.0.2 in /usr/local/lib/python3.6/dist-packages (from requests->transformers==2.1.1) (3.0.4)\n",
      "Requirement already satisfied: idna<2.9,>=2.5 in /usr/local/lib/python3.6/dist-packages (from requests->transformers==2.1.1) (2.8)\n",
      "Requirement already satisfied: six in /usr/local/lib/python3.6/dist-packages (from sacremoses->transformers==2.1.1) (1.12.0)\n",
      "Requirement already satisfied: click in /usr/local/lib/python3.6/dist-packages (from sacremoses->transformers==2.1.1) (7.0)\n",
      "Requirement already satisfied: joblib in /usr/local/lib/python3.6/dist-packages (from sacremoses->transformers==2.1.1) (0.14.1)\n",
      "Requirement already satisfied: s3transfer<0.3.0,>=0.2.0 in /usr/local/lib/python3.6/dist-packages (from boto3->transformers==2.1.1) (0.2.1)\n",
      "Requirement already satisfied: botocore<1.14.0,>=1.13.40 in /usr/local/lib/python3.6/dist-packages (from boto3->transformers==2.1.1) (1.13.40)\n",
      "Requirement already satisfied: jmespath<1.0.0,>=0.7.1 in /usr/local/lib/python3.6/dist-packages (from boto3->transformers==2.1.1) (0.9.4)\n",
      "Requirement already satisfied: python-dateutil<2.8.1,>=2.1; python_version >= \"2.7\" in /usr/local/lib/python3.6/dist-packages (from botocore<1.14.0,>=1.13.40->boto3->transformers==2.1.1) (2.6.1)\n",
      "Requirement already satisfied: docutils<0.16,>=0.10 in /usr/local/lib/python3.6/dist-packages (from botocore<1.14.0,>=1.13.40->boto3->transformers==2.1.1) (0.15.2)\n",
      "Building wheels for collected packages: sacremoses\n",
      "  Building wheel for sacremoses (setup.py) ... \u001b[?25l\u001b[?25hdone\n",
      "  Created wheel for sacremoses: filename=sacremoses-0.0.35-cp36-none-any.whl size=883999 sha256=7863898e98efaa862fab8931f817c2cad3584f39cb6f9f1d27d3b777e30e7aca\n",
      "  Stored in directory: /root/.cache/pip/wheels/63/2a/db/63e2909042c634ef551d0d9ac825b2b0b32dede4a6d87ddc94\n",
      "Successfully built sacremoses\n",
      "Installing collected packages: sacremoses, sentencepiece, transformers\n",
      "Successfully installed sacremoses-0.0.35 sentencepiece-0.1.85 transformers-2.1.1\n"
     ]
    }
   ],
   "source": [
    "!pip install transformers==2.1.1"
   ]
  },
  {
   "cell_type": "code",
   "execution_count": 4,
   "metadata": {
    "Collapsed": "false",
    "colab": {
     "base_uri": "https://localhost:8080/",
     "height": 865
    },
    "colab_type": "code",
    "executionInfo": {
     "elapsed": 47663,
     "status": "ok",
     "timestamp": 1578081056107,
     "user": {
      "displayName": "Oleg Polakow",
      "photoUrl": "https://lh4.googleusercontent.com/-OxrfQHAWmSQ/AAAAAAAAAAI/AAAAAAAABR4/cis0IgU-Avs/s64/photo.jpg",
      "userId": "08729449616485726726"
     },
     "user_tz": -60
    },
    "id": "ozqbylCAx52s",
    "outputId": "0ac2cc80-3d8d-4571-8788-eaa6e4e418d9"
   },
   "outputs": [
    {
     "name": "stdout",
     "output_type": "stream",
     "text": [
      "Collecting fastai==1.0.58\n",
      "\u001b[?25l  Downloading https://files.pythonhosted.org/packages/b9/88/386289f6926a59cbd2765b033f5fe8414d6ff89ab27044dffe740cc1a5f3/fastai-1.0.58-py3-none-any.whl (236kB)\n",
      "\u001b[K     |████████████████████████████████| 245kB 6.1MB/s eta 0:00:01\n",
      "\u001b[?25hRequirement already satisfied: torchvision in /usr/local/lib/python3.6/dist-packages (from fastai==1.0.58) (0.4.2)\n",
      "Requirement already satisfied: pyyaml in /usr/local/lib/python3.6/dist-packages (from fastai==1.0.58) (3.13)\n",
      "Requirement already satisfied: bottleneck in /usr/local/lib/python3.6/dist-packages (from fastai==1.0.58) (1.3.1)\n",
      "Requirement already satisfied: matplotlib in /usr/local/lib/python3.6/dist-packages (from fastai==1.0.58) (3.1.2)\n",
      "Requirement already satisfied: packaging in /usr/local/lib/python3.6/dist-packages (from fastai==1.0.58) (19.2)\n",
      "Requirement already satisfied: scipy in /usr/local/lib/python3.6/dist-packages (from fastai==1.0.58) (1.3.3)\n",
      "Requirement already satisfied: Pillow in /usr/local/lib/python3.6/dist-packages (from fastai==1.0.58) (4.3.0)\n",
      "Requirement already satisfied: requests in /usr/local/lib/python3.6/dist-packages (from fastai==1.0.58) (2.21.0)\n",
      "Requirement already satisfied: fastprogress>=0.1.19 in /usr/local/lib/python3.6/dist-packages (from fastai==1.0.58) (0.1.22)\n",
      "Requirement already satisfied: beautifulsoup4 in /usr/local/lib/python3.6/dist-packages (from fastai==1.0.58) (4.6.3)\n",
      "Requirement already satisfied: pandas in /usr/local/lib/python3.6/dist-packages (from fastai==1.0.58) (0.25.3)\n",
      "Requirement already satisfied: torch>=1.0.0 in /usr/local/lib/python3.6/dist-packages (from fastai==1.0.58) (1.3.1)\n",
      "Requirement already satisfied: numexpr in /usr/local/lib/python3.6/dist-packages (from fastai==1.0.58) (2.7.0)\n",
      "Requirement already satisfied: dataclasses; python_version < \"3.7\" in /usr/local/lib/python3.6/dist-packages (from fastai==1.0.58) (0.7)\n",
      "Requirement already satisfied: spacy>=2.0.18 in /usr/local/lib/python3.6/dist-packages (from fastai==1.0.58) (2.1.9)\n",
      "Requirement already satisfied: numpy>=1.15 in /usr/local/lib/python3.6/dist-packages (from fastai==1.0.58) (1.17.4)\n",
      "Requirement already satisfied: nvidia-ml-py3 in /usr/local/lib/python3.6/dist-packages (from fastai==1.0.58) (7.352.0)\n",
      "Requirement already satisfied: six in /usr/local/lib/python3.6/dist-packages (from torchvision->fastai==1.0.58) (1.12.0)\n",
      "Requirement already satisfied: kiwisolver>=1.0.1 in /usr/local/lib/python3.6/dist-packages (from matplotlib->fastai==1.0.58) (1.1.0)\n",
      "Requirement already satisfied: pyparsing!=2.0.4,!=2.1.2,!=2.1.6,>=2.0.1 in /usr/local/lib/python3.6/dist-packages (from matplotlib->fastai==1.0.58) (2.4.5)\n",
      "Requirement already satisfied: cycler>=0.10 in /usr/local/lib/python3.6/dist-packages (from matplotlib->fastai==1.0.58) (0.10.0)\n",
      "Requirement already satisfied: python-dateutil>=2.1 in /usr/local/lib/python3.6/dist-packages (from matplotlib->fastai==1.0.58) (2.6.1)\n",
      "Requirement already satisfied: olefile in /usr/local/lib/python3.6/dist-packages (from Pillow->fastai==1.0.58) (0.46)\n",
      "Requirement already satisfied: chardet<3.1.0,>=3.0.2 in /usr/local/lib/python3.6/dist-packages (from requests->fastai==1.0.58) (3.0.4)\n",
      "Requirement already satisfied: idna<2.9,>=2.5 in /usr/local/lib/python3.6/dist-packages (from requests->fastai==1.0.58) (2.8)\n",
      "Requirement already satisfied: urllib3<1.25,>=1.21.1 in /usr/local/lib/python3.6/dist-packages (from requests->fastai==1.0.58) (1.24.3)\n",
      "Requirement already satisfied: certifi>=2017.4.17 in /usr/local/lib/python3.6/dist-packages (from requests->fastai==1.0.58) (2019.11.28)\n",
      "Requirement already satisfied: pytz>=2017.2 in /usr/local/lib/python3.6/dist-packages (from pandas->fastai==1.0.58) (2018.9)\n",
      "Requirement already satisfied: murmurhash<1.1.0,>=0.28.0 in /usr/local/lib/python3.6/dist-packages (from spacy>=2.0.18->fastai==1.0.58) (1.0.2)\n",
      "Requirement already satisfied: thinc<7.1.0,>=7.0.8 in /usr/local/lib/python3.6/dist-packages (from spacy>=2.0.18->fastai==1.0.58) (7.0.8)\n",
      "Requirement already satisfied: blis<0.3.0,>=0.2.2 in /usr/local/lib/python3.6/dist-packages (from spacy>=2.0.18->fastai==1.0.58) (0.2.4)\n",
      "Requirement already satisfied: preshed<2.1.0,>=2.0.1 in /usr/local/lib/python3.6/dist-packages (from spacy>=2.0.18->fastai==1.0.58) (2.0.1)\n",
      "Requirement already satisfied: srsly<1.1.0,>=0.0.6 in /usr/local/lib/python3.6/dist-packages (from spacy>=2.0.18->fastai==1.0.58) (0.2.0)\n",
      "Requirement already satisfied: plac<1.0.0,>=0.9.6 in /usr/local/lib/python3.6/dist-packages (from spacy>=2.0.18->fastai==1.0.58) (0.9.6)\n",
      "Requirement already satisfied: cymem<2.1.0,>=2.0.2 in /usr/local/lib/python3.6/dist-packages (from spacy>=2.0.18->fastai==1.0.58) (2.0.3)\n",
      "Requirement already satisfied: wasabi<1.1.0,>=0.2.0 in /usr/local/lib/python3.6/dist-packages (from spacy>=2.0.18->fastai==1.0.58) (0.4.2)\n",
      "Requirement already satisfied: setuptools in /usr/local/lib/python3.6/dist-packages (from kiwisolver>=1.0.1->matplotlib->fastai==1.0.58) (42.0.2)\n",
      "Requirement already satisfied: tqdm<5.0.0,>=4.10.0 in /usr/local/lib/python3.6/dist-packages (from thinc<7.1.0,>=7.0.8->spacy>=2.0.18->fastai==1.0.58) (4.28.1)\n",
      "Installing collected packages: fastai\n",
      "  Found existing installation: fastai 1.0.59\n",
      "    Uninstalling fastai-1.0.59:\n",
      "      Successfully uninstalled fastai-1.0.59\n",
      "Successfully installed fastai-1.0.58\n"
     ]
    }
   ],
   "source": [
    "!pip install fastai==1.0.58"
   ]
  },
  {
   "cell_type": "code",
   "execution_count": null,
   "metadata": {
    "Collapsed": "false",
    "colab": {},
    "colab_type": "code",
    "id": "iYpxhzoGxKA4"
   },
   "outputs": [],
   "source": [
    "from tqdm import tqdm\n",
    "import pandas as pd\n",
    "import numpy as np\n",
    "import pickle\n",
    "import math\n",
    "import random\n",
    "import os\n",
    "from pathlib import Path\n",
    "from functools import partial"
   ]
  },
  {
   "cell_type": "code",
   "execution_count": 6,
   "metadata": {
    "Collapsed": "false",
    "colab": {
     "base_uri": "https://localhost:8080/",
     "height": 64
    },
    "colab_type": "code",
    "executionInfo": {
     "elapsed": 55482,
     "status": "ok",
     "timestamp": 1578081064009,
     "user": {
      "displayName": "Oleg Polakow",
      "photoUrl": "https://lh4.googleusercontent.com/-OxrfQHAWmSQ/AAAAAAAAAAI/AAAAAAAABR4/cis0IgU-Avs/s64/photo.jpg",
      "userId": "08729449616485726726"
     },
     "user_tz": -60
    },
    "id": "GVFHJs1rxmWK",
    "outputId": "3fc80ed4-0c03-46eb-fda9-42465c9790d4"
   },
   "outputs": [
    {
     "data": {
      "text/html": [
       "<p style=\"color: red;\">\n",
       "The default version of TensorFlow in Colab will soon switch to TensorFlow 2.x.<br>\n",
       "We recommend you <a href=\"https://www.tensorflow.org/guide/migrate\" target=\"_blank\">upgrade</a> now \n",
       "or ensure your notebook will continue to use TensorFlow 1.x via the <code>%tensorflow_version 1.x</code> magic:\n",
       "<a href=\"https://colab.research.google.com/notebooks/tensorflow_version.ipynb\" target=\"_blank\">more info</a>.</p>\n"
      ],
      "text/plain": [
       "<IPython.core.display.HTML object>"
      ]
     },
     "metadata": {
      "tags": []
     },
     "output_type": "display_data"
    }
   ],
   "source": [
    "# torch\n",
    "import torch\n",
    "import torch.optim as optim\n",
    "\n",
    "# fastai\n",
    "from fastai import *\n",
    "from fastai.text import *\n",
    "from fastai.callbacks import *\n",
    "\n",
    "# transformers\n",
    "from transformers import PreTrainedModel, PreTrainedTokenizer, PretrainedConfig\n",
    "from transformers import RobertaForSequenceClassification, RobertaTokenizer, RobertaConfig\n",
    "from transformers import AdamW"
   ]
  },
  {
   "cell_type": "code",
   "execution_count": null,
   "metadata": {
    "Collapsed": "false",
    "colab": {},
    "colab_type": "code",
    "id": "K_bUCwQew0UK"
   },
   "outputs": [],
   "source": [
    "# Remember to define the model dir in GDrive for persistence if using Colab\n",
    "MODEL_DIR = Path(\"drive/My Drive/Colab Notebooks/transformers/MoviePlots/genre_prediction/RoBERTa\")\n",
    "\n",
    "# Prepared data\n",
    "DATA_FILE = Path(\"drive/My Drive/Colab Notebooks/transformers/MoviePlots/data/data.pkl\")\n",
    "\n",
    "# Model checkpoints will be stored here\n",
    "OUTPUT_DIR = MODEL_DIR/'output'\n",
    "OUTPUT_DIR.mkdir(exist_ok=True)"
   ]
  },
  {
   "cell_type": "code",
   "execution_count": null,
   "metadata": {
    "Collapsed": "false",
    "colab": {},
    "colab_type": "code",
    "id": "z2ciQLz7z3GQ"
   },
   "outputs": [],
   "source": [
    "# Hyperparameters\n",
    "SEED = 42\n",
    "VALID_FRAC = 0.05\n",
    "USE_FP16 = False\n",
    "BS = 12\n",
    "\n",
    "MODEL_TYPE = 'roberta'\n",
    "MODEL_NAME = 'roberta-base'\n",
    "MODEL_CLASS = RobertaForSequenceClassification\n",
    "TOKENIZER_CLASS = RobertaTokenizer\n",
    "CONFIG_CLASS = RobertaConfig"
   ]
  },
  {
   "cell_type": "code",
   "execution_count": null,
   "metadata": {
    "Collapsed": "false",
    "colab": {},
    "colab_type": "code",
    "id": "Dl7otZeyzgEG"
   },
   "outputs": [],
   "source": [
    "def seed_all(seed_value):\n",
    "    random.seed(seed_value) # Python\n",
    "    np.random.seed(seed_value) # cpu vars\n",
    "    torch.manual_seed(seed_value) # cpu  vars\n",
    "    \n",
    "    if torch.cuda.is_available(): \n",
    "        torch.cuda.manual_seed(seed_value)\n",
    "        torch.cuda.manual_seed_all(seed_value) # gpu vars\n",
    "        torch.backends.cudnn.deterministic = True  # needed\n",
    "        torch.backends.cudnn.benchmark = False"
   ]
  },
  {
   "cell_type": "code",
   "execution_count": null,
   "metadata": {
    "Collapsed": "false",
    "colab": {},
    "colab_type": "code",
    "id": "2Uz0WBtb0Q5_"
   },
   "outputs": [],
   "source": [
    "seed_all(SEED)"
   ]
  },
  {
   "cell_type": "markdown",
   "metadata": {
    "Collapsed": "false",
    "colab_type": "text",
    "id": "XkIHp3pKxSyA"
   },
   "source": [
    "## Import data"
   ]
  },
  {
   "cell_type": "code",
   "execution_count": null,
   "metadata": {
    "Collapsed": "false",
    "colab": {},
    "colab_type": "code",
    "id": "mh39YTDExJOn"
   },
   "outputs": [],
   "source": [
    "with open(DATA_FILE, 'rb') as handle:\n",
    "    data = pickle.load(handle)"
   ]
  },
  {
   "cell_type": "code",
   "execution_count": 12,
   "metadata": {
    "Collapsed": "false",
    "colab": {
     "base_uri": "https://localhost:8080/",
     "height": 55
    },
    "colab_type": "code",
    "executionInfo": {
     "elapsed": 59189,
     "status": "ok",
     "timestamp": 1578081067786,
     "user": {
      "displayName": "Oleg Polakow",
      "photoUrl": "https://lh4.googleusercontent.com/-OxrfQHAWmSQ/AAAAAAAAAAI/AAAAAAAABR4/cis0IgU-Avs/s64/photo.jpg",
      "userId": "08729449616485726726"
     },
     "user_tz": -60
    },
    "id": "mgdMfIdK9Clh",
    "outputId": "f264dcdb-62ca-4015-f55d-8e3f11b89e36"
   },
   "outputs": [
    {
     "name": "stdout",
     "output_type": "stream",
     "text": [
      "['action', 'adult', 'adventure', 'animation', 'biography', 'comedy', 'crime', 'documentary', 'drama', 'family', 'fantasy', 'game-show', 'history', 'horror', 'music', 'musical', 'mystery', 'news', 'reality-tv', 'romance', 'sci-fi', 'short', 'sport', 'talk-show', 'thriller', 'war', 'western']\n"
     ]
    }
   ],
   "source": [
    "GENRES = sorted(set([genre for d in data for genre in d['genres']]))\n",
    "\n",
    "print(GENRES)"
   ]
  },
  {
   "cell_type": "markdown",
   "metadata": {
    "Collapsed": "false",
    "colab_type": "text",
    "id": "nWMVvOTdx0vA"
   },
   "source": [
    "## Prepare data"
   ]
  },
  {
   "cell_type": "code",
   "execution_count": 13,
   "metadata": {
    "Collapsed": "false",
    "colab": {
     "base_uri": "https://localhost:8080/",
     "height": 143
    },
    "colab_type": "code",
    "executionInfo": {
     "elapsed": 59168,
     "status": "ok",
     "timestamp": 1578081067787,
     "user": {
      "displayName": "Oleg Polakow",
      "photoUrl": "https://lh4.googleusercontent.com/-OxrfQHAWmSQ/AAAAAAAAAAI/AAAAAAAABR4/cis0IgU-Avs/s64/photo.jpg",
      "userId": "08729449616485726726"
     },
     "user_tz": -60
    },
    "id": "7MJkOy-syk-5",
    "outputId": "a95fa0f1-ebcb-4162-be2c-86a9f9179935"
   },
   "outputs": [
    {
     "name": "stdout",
     "output_type": "stream",
     "text": [
      "(117193, 2)\n",
      "                                                plot        genres\n",
      "0   #7dayslater is an interactive comedy series f...      {comedy}\n",
      "1   With just one week left in the workshops, the...  {reality-tv}\n",
      "2   All of the women start making strides towards...  {reality-tv}\n",
      "3   All five of these women are independent and s...  {reality-tv}\n",
      "4   Despite having gone through a life changing p...  {reality-tv}\n"
     ]
    }
   ],
   "source": [
    "df = pd.DataFrame()\n",
    "df['plot'] = list(map(lambda x: x['plot'], data))\n",
    "df['genres'] = list(map(lambda x: x['genres'], data))\n",
    "\n",
    "print(df.shape)\n",
    "print(df.head())"
   ]
  },
  {
   "cell_type": "code",
   "execution_count": null,
   "metadata": {
    "Collapsed": "false",
    "colab": {},
    "colab_type": "code",
    "id": "JAunbvRX0m2d"
   },
   "outputs": [],
   "source": [
    "class RobertaTokenizerWrapped(BaseTokenizer):\n",
    "    \"\"\"Wrapper around BertTokenizer to be compatible with fastai\"\"\"\n",
    "    \n",
    "    def __init__(self, pretrained_tokenizer: PreTrainedTokenizer, **kwargs):\n",
    "        self._pretrained_tokenizer = pretrained_tokenizer\n",
    "        self.max_seq_len = pretrained_tokenizer.max_len\n",
    "\n",
    "    def __call__(self, *args, **kwargs): \n",
    "        return self\n",
    "\n",
    "    def tokenizer(self, t:str) -> List[str]:\n",
    "        \"\"\"Limits the maximum sequence length and add the spesial tokens\"\"\"\n",
    "        # As we are not using RNN, we have to limit the sequence length to the model input size.\n",
    "        # Most of the models require special tokens placed at the beginning and end of the sequences.\n",
    "        # For some models like RoBERTa, the encoding methods should be called with add_prefix_space set to True.\n",
    "        CLS = self._pretrained_tokenizer.cls_token\n",
    "        SEP = self._pretrained_tokenizer.sep_token\n",
    "        tokens = self._pretrained_tokenizer.tokenize(t, add_prefix_space=True)[:self.max_seq_len - 2]\n",
    "        \n",
    "        # roberta:    [CLS] + prefix_space + tokens + [SEP] + padding\n",
    "        # fastai will manage padding automatically during the creation of the DataBunch.\n",
    "        return [CLS] + tokens + [SEP]"
   ]
  },
  {
   "cell_type": "code",
   "execution_count": 15,
   "metadata": {
    "Collapsed": "false",
    "colab": {
     "base_uri": "https://localhost:8080/",
     "height": 53
    },
    "colab_type": "code",
    "executionInfo": {
     "elapsed": 61972,
     "status": "ok",
     "timestamp": 1578081070640,
     "user": {
      "displayName": "Oleg Polakow",
      "photoUrl": "https://lh4.googleusercontent.com/-OxrfQHAWmSQ/AAAAAAAAAAI/AAAAAAAABR4/cis0IgU-Avs/s64/photo.jpg",
      "userId": "08729449616485726726"
     },
     "user_tz": -60
    },
    "id": "6setFREq0xRb",
    "outputId": "128e7279-5a9f-43bf-d54b-dc9be590fd9c"
   },
   "outputs": [
    {
     "name": "stderr",
     "output_type": "stream",
     "text": [
      "100%|██████████| 898823/898823 [00:00<00:00, 1807773.80B/s]\n",
      "100%|██████████| 456318/456318 [00:00<00:00, 1355091.33B/s]\n"
     ]
    }
   ],
   "source": [
    "roberta_tokenizer = TOKENIZER_CLASS.from_pretrained(MODEL_NAME)\n",
    "roberta_tokenizer_wrapped = RobertaTokenizerWrapped(pretrained_tokenizer=roberta_tokenizer)\n",
    "fastai_tokenizer = Tokenizer(tok_func=roberta_tokenizer_wrapped, pre_rules=[], post_rules=[])"
   ]
  },
  {
   "cell_type": "code",
   "execution_count": 16,
   "metadata": {
    "Collapsed": "false",
    "colab": {
     "base_uri": "https://localhost:8080/",
     "height": 91
    },
    "colab_type": "code",
    "executionInfo": {
     "elapsed": 61950,
     "status": "ok",
     "timestamp": 1578081070641,
     "user": {
      "displayName": "Oleg Polakow",
      "photoUrl": "https://lh4.googleusercontent.com/-OxrfQHAWmSQ/AAAAAAAAAAI/AAAAAAAABR4/cis0IgU-Avs/s64/photo.jpg",
      "userId": "08729449616485726726"
     },
     "user_tz": -60
    },
    "id": "4-904i8y59a2",
    "outputId": "9fc67df6-4f2a-4b5b-c010-7fdbaf86f8f4"
   },
   "outputs": [
    {
     "name": "stdout",
     "output_type": "stream",
     "text": [
      "['#', '7', 'days', 'later', 'Ġis', 'Ġan', 'Ġinteractive', 'Ġcomedy', 'Ġseries', 'Ġfeaturing', 'Ġan', 'Ġensemble', 'Ġcast', 'Ġof', 'ĠYouTube', 'Ġcelebrities', '.', 'ĠEach', 'Ġweek', 'Ġthe', 'Ġaudience', 'Ġwrites', 'Ġthe', 'Ġbrief', 'Ġvia', 'Ġsocial', 'Ġmedia', 'Ġfor', 'Ġan', 'Ġall', '-', 'new', 'Ġepisode', 'Ġfeaturing', 'Ġa', 'Ġwell', '-', 'known', 'Ġguest', '-', 'star', '.', 'ĠSeven', 'Ġdays', 'Ġlater', 'Ġthat', 'Ġweek', \"'s\", 'Ġepisode', 'Ġpremie', 'res', 'Ġon', 'ĠTV', 'Ġand', 'Ġacross', 'Ġmultiple', 'Ġplatforms', '.']\n",
      "[10431, 406, 7033, 36600, 16, 41, 10813, 5313, 651, 4246, 41, 12547, 2471, 9, 4037, 8844, 4, 4028, 186, 5, 2437, 5789, 5, 4315, 1241, 592, 433, 13, 41, 70, 12, 4651, 3238, 4246, 10, 157, 12, 6421, 4910, 12, 3641, 4, 7732, 360, 423, 14, 186, 18, 3238, 25548, 1535, 15, 1012, 8, 420, 1533, 4818, 4]\n",
      "['#', '7', 'days', 'later', 'Ġis', 'Ġan', 'Ġinteractive', 'Ġcomedy', 'Ġseries', 'Ġfeaturing', 'Ġan', 'Ġensemble', 'Ġcast', 'Ġof', 'ĠYouTube', 'Ġcelebrities', '.', 'ĠEach', 'Ġweek', 'Ġthe', 'Ġaudience', 'Ġwrites', 'Ġthe', 'Ġbrief', 'Ġvia', 'Ġsocial', 'Ġmedia', 'Ġfor', 'Ġan', 'Ġall', '-', 'new', 'Ġepisode', 'Ġfeaturing', 'Ġa', 'Ġwell', '-', 'known', 'Ġguest', '-', 'star', '.', 'ĠSeven', 'Ġdays', 'Ġlater', 'Ġthat', 'Ġweek', \"'s\", 'Ġepisode', 'Ġpremie', 'res', 'Ġon', 'ĠTV', 'Ġand', 'Ġacross', 'Ġmultiple', 'Ġplatforms', '.']\n"
     ]
    }
   ],
   "source": [
    "# Test tokenizer\n",
    "tokens = roberta_tokenizer.tokenize(data[0]['plot'])\n",
    "print(tokens)\n",
    "\n",
    "ids = roberta_tokenizer.convert_tokens_to_ids(tokens)\n",
    "print(ids)\n",
    "\n",
    "tokens = roberta_tokenizer.convert_ids_to_tokens(ids)\n",
    "print(tokens)"
   ]
  },
  {
   "cell_type": "code",
   "execution_count": null,
   "metadata": {
    "Collapsed": "false",
    "colab": {},
    "colab_type": "code",
    "id": "L-AW7Wiz1GRZ"
   },
   "outputs": [],
   "source": [
    "class RobertaVocab(Vocab):\n",
    "    \"Contain the correspondence between numbers and tokens and numericalize (for RoBERTa).\"\n",
    "    def __init__(self, tokenizer: PreTrainedTokenizer):\n",
    "        super(RobertaVocab, self).__init__(itos = [])\n",
    "        self.tokenizer = tokenizer\n",
    "    \n",
    "    def numericalize(self, t:Collection[str]) -> List[int]:\n",
    "        \"Convert a list of tokens `t` to their ids.\"\n",
    "        return self.tokenizer.convert_tokens_to_ids(t)\n",
    "\n",
    "    def textify(self, nums:Collection[int], sep=' ') -> List[str]:\n",
    "        \"Convert a list of `nums` to their tokens.\"\n",
    "        nums = np.array(nums).tolist()\n",
    "        return sep.join(self.tokenizer.convert_ids_to_tokens(nums)) if sep is not None else self.tokenizer.convert_ids_to_tokens(nums)"
   ]
  },
  {
   "cell_type": "code",
   "execution_count": null,
   "metadata": {
    "Collapsed": "false",
    "colab": {},
    "colab_type": "code",
    "id": "MGtRKYml5S_r"
   },
   "outputs": [],
   "source": [
    "bert_vocab = RobertaVocab(tokenizer=roberta_tokenizer)\n",
    "numericalize_processor = NumericalizeProcessor(vocab=bert_vocab)\n",
    "# Remeber to exclude fastai's special tokens which interferes with the [CLS] and [SEP]\n",
    "tokenize_processor = TokenizeProcessor(tokenizer=fastai_tokenizer, include_bos=False, include_eos=False)\n",
    "\n",
    "fastai_processor = [tokenize_processor, numericalize_processor]"
   ]
  },
  {
   "cell_type": "code",
   "execution_count": 19,
   "metadata": {
    "Collapsed": "false",
    "colab": {
     "base_uri": "https://localhost:8080/",
     "height": 17
    },
    "colab_type": "code",
    "executionInfo": {
     "elapsed": 183824,
     "status": "ok",
     "timestamp": 1578081192565,
     "user": {
      "displayName": "Oleg Polakow",
      "photoUrl": "https://lh4.googleusercontent.com/-OxrfQHAWmSQ/AAAAAAAAAAI/AAAAAAAABR4/cis0IgU-Avs/s64/photo.jpg",
      "userId": "08729449616485726726"
     },
     "user_tz": -60
    },
    "id": "atTLbM-s6NDh",
    "outputId": "d95a8407-6890-4518-f6bb-f1915b11b2aa"
   },
   "outputs": [
    {
     "data": {
      "text/html": [],
      "text/plain": [
       "<IPython.core.display.HTML object>"
      ]
     },
     "metadata": {
      "tags": []
     },
     "output_type": "display_data"
    },
    {
     "data": {
      "text/html": [],
      "text/plain": [
       "<IPython.core.display.HTML object>"
      ]
     },
     "metadata": {
      "tags": []
     },
     "output_type": "display_data"
    }
   ],
   "source": [
    "databunch = (TextList\n",
    "             .from_df(df, cols='plot', processor=fastai_processor)\n",
    "             .split_by_rand_pct(VALID_FRAC, seed=SEED)\n",
    "             .label_from_df(cols='genres')\n",
    "             .databunch(bs=BS, pad_first=False, pad_idx=roberta_tokenizer.pad_token_id, path=OUTPUT_DIR))"
   ]
  },
  {
   "cell_type": "code",
   "execution_count": 20,
   "metadata": {
    "Collapsed": "false",
    "colab": {
     "base_uri": "https://localhost:8080/",
     "height": 269
    },
    "colab_type": "code",
    "executionInfo": {
     "elapsed": 205958,
     "status": "ok",
     "timestamp": 1578081214729,
     "user": {
      "displayName": "Oleg Polakow",
      "photoUrl": "https://lh4.googleusercontent.com/-OxrfQHAWmSQ/AAAAAAAAAAI/AAAAAAAABR4/cis0IgU-Avs/s64/photo.jpg",
      "userId": "08729449616485726726"
     },
     "user_tz": -60
    },
    "id": "asp7gECI7y_e",
    "outputId": "6f380ca3-6d7c-438e-87c9-d361218447a3"
   },
   "outputs": [
    {
     "name": "stdout",
     "output_type": "stream",
     "text": [
      "[CLS] token : <s>\n",
      "[SEP] token : </s>\n",
      "[PAD] token : <pad>\n",
      "[CLS] id : 0\n",
      "[SEP] id : 2\n",
      "[PAD] id : 1\n",
      "Batch shape :  torch.Size([12, 512])\n",
      "tensor([[    0,   572,    41,  ...,   530,  9475,     2],\n",
      "        [    0,    20, 20887,  ...,     4,   104,     2],\n",
      "        [    0,    20, 13144,  ...,   213,     7,     2],\n",
      "        ...,\n",
      "        [    0,   590,     5,  ...,     1,     1,     1],\n",
      "        [    0, 10664,    73,  ...,     1,     1,     1],\n",
      "        [    0, 11297,    18,  ...,     1,     1,     1]])\n"
     ]
    }
   ],
   "source": [
    "# Test the Bunch\n",
    "print('[CLS] token :', roberta_tokenizer.cls_token)\n",
    "print('[SEP] token :', roberta_tokenizer.sep_token)\n",
    "print('[PAD] token :', roberta_tokenizer.pad_token)\n",
    "print('[CLS] id :', roberta_tokenizer.cls_token_id)\n",
    "print('[SEP] id :', roberta_tokenizer.sep_token_id)\n",
    "print('[PAD] id :', roberta_tokenizer.pad_token_id)\n",
    "test_one_batch = databunch.one_batch()[0]\n",
    "print('Batch shape : ', test_one_batch.shape)\n",
    "print(test_one_batch)"
   ]
  },
  {
   "cell_type": "markdown",
   "metadata": {
    "Collapsed": "false",
    "colab_type": "text",
    "id": "GXLF6Cmk0OtR"
   },
   "source": [
    "## Train model"
   ]
  },
  {
   "cell_type": "code",
   "execution_count": 21,
   "metadata": {
    "Collapsed": "false",
    "colab": {
     "base_uri": "https://localhost:8080/",
     "height": 305
    },
    "colab_type": "code",
    "executionInfo": {
     "elapsed": 208897,
     "status": "ok",
     "timestamp": 1578081217698,
     "user": {
      "displayName": "Oleg Polakow",
      "photoUrl": "https://lh4.googleusercontent.com/-OxrfQHAWmSQ/AAAAAAAAAAI/AAAAAAAABR4/cis0IgU-Avs/s64/photo.jpg",
      "userId": "08729449616485726726"
     },
     "user_tz": -60
    },
    "id": "pEmViGFMCut1",
    "outputId": "8338151f-707c-454f-ad1d-f88251798c5a"
   },
   "outputs": [
    {
     "name": "stdout",
     "output_type": "stream",
     "text": [
      "Fri Jan  3 19:53:35 2020       \n",
      "+-----------------------------------------------------------------------------+\n",
      "| NVIDIA-SMI 440.44       Driver Version: 418.67       CUDA Version: 10.1     |\n",
      "|-------------------------------+----------------------+----------------------+\n",
      "| GPU  Name        Persistence-M| Bus-Id        Disp.A | Volatile Uncorr. ECC |\n",
      "| Fan  Temp  Perf  Pwr:Usage/Cap|         Memory-Usage | GPU-Util  Compute M. |\n",
      "|===============================+======================+======================|\n",
      "|   0  Tesla P100-PCIE...  Off  | 00000000:00:04.0 Off |                    0 |\n",
      "| N/A   43C    P0    32W / 250W |    719MiB / 16280MiB |      0%      Default |\n",
      "+-------------------------------+----------------------+----------------------+\n",
      "                                                                               \n",
      "+-----------------------------------------------------------------------------+\n",
      "| Processes:                                                       GPU Memory |\n",
      "|  GPU       PID   Type   Process name                             Usage      |\n",
      "|=============================================================================|\n",
      "+-----------------------------------------------------------------------------+\n"
     ]
    }
   ],
   "source": [
    "!nvidia-smi"
   ]
  },
  {
   "cell_type": "code",
   "execution_count": null,
   "metadata": {
    "Collapsed": "false",
    "colab": {},
    "colab_type": "code",
    "id": "plDtgvk2nlXa"
   },
   "outputs": [],
   "source": [
    "class RobertaModel(nn.Module):\n",
    "    \"\"\"Wrap transformer model to access only logits.\"\"\"\n",
    "    def __init__(self, transformer_model: PreTrainedModel):\n",
    "        super(RobertaModel,self).__init__()\n",
    "        self.transformer = transformer_model\n",
    "        \n",
    "    def forward(self, input_ids, attention_mask=None):\n",
    "        attention_mask = (input_ids!=1).type(input_ids.type()) # Test attention_mask for RoBERTa\n",
    "        logits = self.transformer(input_ids, attention_mask = attention_mask)[0]   \n",
    "        return logits"
   ]
  },
  {
   "cell_type": "code",
   "execution_count": 23,
   "metadata": {
    "Collapsed": "false",
    "colab": {
     "base_uri": "https://localhost:8080/",
     "height": 449
    },
    "colab_type": "code",
    "executionInfo": {
     "elapsed": 209170,
     "status": "ok",
     "timestamp": 1578081218005,
     "user": {
      "displayName": "Oleg Polakow",
      "photoUrl": "https://lh4.googleusercontent.com/-OxrfQHAWmSQ/AAAAAAAAAAI/AAAAAAAABR4/cis0IgU-Avs/s64/photo.jpg",
      "userId": "08729449616485726726"
     },
     "user_tz": -60
    },
    "id": "ArWlf4bX8tLo",
    "outputId": "d75f6fbf-8f5e-439f-d8c9-72b9be81271d"
   },
   "outputs": [
    {
     "name": "stderr",
     "output_type": "stream",
     "text": [
      "100%|██████████| 473/473 [00:00<00:00, 171425.37B/s]"
     ]
    },
    {
     "name": "stdout",
     "output_type": "stream",
     "text": [
      "{\n",
      "  \"attention_probs_dropout_prob\": 0.1,\n",
      "  \"finetuning_task\": null,\n",
      "  \"hidden_act\": \"gelu\",\n",
      "  \"hidden_dropout_prob\": 0.1,\n",
      "  \"hidden_size\": 768,\n",
      "  \"initializer_range\": 0.02,\n",
      "  \"intermediate_size\": 3072,\n",
      "  \"layer_norm_eps\": 1e-05,\n",
      "  \"max_position_embeddings\": 514,\n",
      "  \"num_attention_heads\": 12,\n",
      "  \"num_hidden_layers\": 12,\n",
      "  \"num_labels\": 27,\n",
      "  \"output_attentions\": false,\n",
      "  \"output_hidden_states\": false,\n",
      "  \"output_past\": true,\n",
      "  \"pruned_heads\": {},\n",
      "  \"torchscript\": false,\n",
      "  \"type_vocab_size\": 1,\n",
      "  \"use_bfloat16\": false,\n",
      "  \"vocab_size\": 50265\n",
      "}\n",
      "\n"
     ]
    },
    {
     "name": "stderr",
     "output_type": "stream",
     "text": [
      "\n"
     ]
    }
   ],
   "source": [
    "# Update the number of classes and other hyperparams\n",
    "config = CONFIG_CLASS.from_pretrained(MODEL_NAME)\n",
    "config.num_labels = len(GENRES)\n",
    "config.use_bfloat16 = USE_FP16\n",
    "\n",
    "print(config)"
   ]
  },
  {
   "cell_type": "code",
   "execution_count": null,
   "metadata": {
    "Collapsed": "false",
    "colab": {},
    "colab_type": "code",
    "id": "45BcBLJy9IyR"
   },
   "outputs": [],
   "source": [
    "# Download the model\n",
    "transformer_model = MODEL_CLASS.from_pretrained(MODEL_NAME, config=config)\n",
    "roberta_model = RobertaModel(transformer_model=transformer_model)"
   ]
  },
  {
   "cell_type": "code",
   "execution_count": 121,
   "metadata": {
    "Collapsed": "false",
    "colab": {
     "base_uri": "https://localhost:8080/",
     "height": 521
    },
    "colab_type": "code",
    "executionInfo": {
     "elapsed": 2008,
     "status": "ok",
     "timestamp": 1578094577315,
     "user": {
      "displayName": "Oleg Polakow",
      "photoUrl": "https://lh4.googleusercontent.com/-OxrfQHAWmSQ/AAAAAAAAAAI/AAAAAAAABR4/cis0IgU-Avs/s64/photo.jpg",
      "userId": "08729449616485726726"
     },
     "user_tz": -60
    },
    "id": "XMnEZG2PIJSC",
    "outputId": "653c9ef3-840e-45d9-bba6-c70fe832f343"
   },
   "outputs": [
    {
     "name": "stdout",
     "output_type": "stream",
     "text": [
      "    class_weight        genre\n",
      "1       3.000000        adult\n",
      "21      2.977438        short\n",
      "15      2.976696      musical\n",
      "4       2.942220    biography\n",
      "25      2.941260          war\n",
      "22      2.917738        sport\n",
      "11      2.913417    game-show\n",
      "13      2.890462       horror\n",
      "12      2.886491      history\n",
      "26      2.882171      western\n",
      "14      2.878854        music\n",
      "17      2.830500         news\n",
      "23      2.773419    talk-show\n",
      "10      2.692684      fantasy\n",
      "20      2.624823       sci-fi\n",
      "24      2.616356     thriller\n",
      "2       2.555653    adventure\n",
      "3       2.506513    animation\n",
      "7       2.478103  documentary\n",
      "16      2.477885      mystery\n",
      "18      2.464313   reality-tv\n",
      "0       2.462567       action\n",
      "6       2.342818        crime\n",
      "9       2.330468       family\n",
      "19      2.165899      romance\n",
      "5       1.524559       comedy\n",
      "8       1.000000        drama\n"
     ]
    }
   ],
   "source": [
    "def rescale(arr, new_min, new_max):\n",
    "    \"\"\"Rescale old range to new range.\"\"\"\n",
    "    return ((arr - arr.min()) * (new_max - new_min)) / (arr.max() - arr.min()) + new_min\n",
    "\n",
    "# Handle class imbalance in a sensitive way\n",
    "# Class with highest occurrence => 1 and of lowest occurrence => 10\n",
    "class_weight = np.array([np.sum(np.array([g in d['genres'] for d in data])) for g in GENRES])\n",
    "class_weight = rescale(class_weight, 3, 1) # reverse rescale\n",
    "\n",
    "print(pd.DataFrame({'class_weight': class_weight, 'genre': GENRES}).sort_values(by='class_weight', ascending=False))"
   ]
  },
  {
   "cell_type": "code",
   "execution_count": null,
   "metadata": {
    "Collapsed": "false",
    "colab": {},
    "colab_type": "code",
    "id": "vKK0wkaH9b5X"
   },
   "outputs": [],
   "source": [
    "# We will use Slanted Triangular Learning Rates, Discriminate Learning Rate and gradually unfreeze the model.\n",
    "# Use AdamW instead of BertAdam and OpenAIAdam\n",
    "CustomAdamW = partial(AdamW, correct_bias=False)\n",
    "\n",
    "pos_weight = torch.FloatTensor(class_weight).cuda()\n",
    "loss_func = nn.BCEWithLogitsLoss(pos_weight=pos_weight)\n",
    "accuracy_05 = partial(accuracy_thresh, thresh=0.5)\n",
    "fscore_05 = partial(fbeta, thresh=0.5)\n",
    "learner = Learner(databunch, roberta_model, loss_func=loss_func, opt_func=CustomAdamW, metrics=[accuracy_05, fscore_05])\n",
    "\n",
    "# Show graph of learner stats and metrics after each epoch.\n",
    "learner.callbacks.append(ShowGraph(learner))\n",
    "\n",
    "# Put learn in FP16 precision mode. --> Seems to not working\n",
    "if USE_FP16: learner = learner.to_fp16()"
   ]
  },
  {
   "cell_type": "code",
   "execution_count": 123,
   "metadata": {
    "Collapsed": "false",
    "colab": {
     "base_uri": "https://localhost:8080/",
     "height": 1000
    },
    "colab_type": "code",
    "executionInfo": {
     "elapsed": 731,
     "status": "ok",
     "timestamp": 1578094577317,
     "user": {
      "displayName": "Oleg Polakow",
      "photoUrl": "https://lh4.googleusercontent.com/-OxrfQHAWmSQ/AAAAAAAAAAI/AAAAAAAABR4/cis0IgU-Avs/s64/photo.jpg",
      "userId": "08729449616485726726"
     },
     "user_tz": -60
    },
    "id": "3pY6r5Aw-Hf-",
    "outputId": "479b8972-cf84-4a82-cf68-53d822a2b7a7"
   },
   "outputs": [
    {
     "name": "stdout",
     "output_type": "stream",
     "text": [
      "RobertaModel(\n",
      "  (transformer): RobertaForSequenceClassification(\n",
      "    (roberta): RobertaModel(\n",
      "      (embeddings): RobertaEmbeddings(\n",
      "        (word_embeddings): Embedding(50265, 768, padding_idx=1)\n",
      "        (position_embeddings): Embedding(514, 768, padding_idx=1)\n",
      "        (token_type_embeddings): Embedding(1, 768)\n",
      "        (LayerNorm): LayerNorm((768,), eps=1e-05, elementwise_affine=True)\n",
      "        (dropout): Dropout(p=0.1, inplace=False)\n",
      "      )\n",
      "      (encoder): BertEncoder(\n",
      "        (layer): ModuleList(\n",
      "          (0): BertLayer(\n",
      "            (attention): BertAttention(\n",
      "              (self): BertSelfAttention(\n",
      "                (query): Linear(in_features=768, out_features=768, bias=True)\n",
      "                (key): Linear(in_features=768, out_features=768, bias=True)\n",
      "                (value): Linear(in_features=768, out_features=768, bias=True)\n",
      "                (dropout): Dropout(p=0.1, inplace=False)\n",
      "              )\n",
      "              (output): BertSelfOutput(\n",
      "                (dense): Linear(in_features=768, out_features=768, bias=True)\n",
      "                (LayerNorm): LayerNorm((768,), eps=1e-05, elementwise_affine=True)\n",
      "                (dropout): Dropout(p=0.1, inplace=False)\n",
      "              )\n",
      "            )\n",
      "            (intermediate): BertIntermediate(\n",
      "              (dense): Linear(in_features=768, out_features=3072, bias=True)\n",
      "            )\n",
      "            (output): BertOutput(\n",
      "              (dense): Linear(in_features=3072, out_features=768, bias=True)\n",
      "              (LayerNorm): LayerNorm((768,), eps=1e-05, elementwise_affine=True)\n",
      "              (dropout): Dropout(p=0.1, inplace=False)\n",
      "            )\n",
      "          )\n",
      "          (1): BertLayer(\n",
      "            (attention): BertAttention(\n",
      "              (self): BertSelfAttention(\n",
      "                (query): Linear(in_features=768, out_features=768, bias=True)\n",
      "                (key): Linear(in_features=768, out_features=768, bias=True)\n",
      "                (value): Linear(in_features=768, out_features=768, bias=True)\n",
      "                (dropout): Dropout(p=0.1, inplace=False)\n",
      "              )\n",
      "              (output): BertSelfOutput(\n",
      "                (dense): Linear(in_features=768, out_features=768, bias=True)\n",
      "                (LayerNorm): LayerNorm((768,), eps=1e-05, elementwise_affine=True)\n",
      "                (dropout): Dropout(p=0.1, inplace=False)\n",
      "              )\n",
      "            )\n",
      "            (intermediate): BertIntermediate(\n",
      "              (dense): Linear(in_features=768, out_features=3072, bias=True)\n",
      "            )\n",
      "            (output): BertOutput(\n",
      "              (dense): Linear(in_features=3072, out_features=768, bias=True)\n",
      "              (LayerNorm): LayerNorm((768,), eps=1e-05, elementwise_affine=True)\n",
      "              (dropout): Dropout(p=0.1, inplace=False)\n",
      "            )\n",
      "          )\n",
      "          (2): BertLayer(\n",
      "            (attention): BertAttention(\n",
      "              (self): BertSelfAttention(\n",
      "                (query): Linear(in_features=768, out_features=768, bias=True)\n",
      "                (key): Linear(in_features=768, out_features=768, bias=True)\n",
      "                (value): Linear(in_features=768, out_features=768, bias=True)\n",
      "                (dropout): Dropout(p=0.1, inplace=False)\n",
      "              )\n",
      "              (output): BertSelfOutput(\n",
      "                (dense): Linear(in_features=768, out_features=768, bias=True)\n",
      "                (LayerNorm): LayerNorm((768,), eps=1e-05, elementwise_affine=True)\n",
      "                (dropout): Dropout(p=0.1, inplace=False)\n",
      "              )\n",
      "            )\n",
      "            (intermediate): BertIntermediate(\n",
      "              (dense): Linear(in_features=768, out_features=3072, bias=True)\n",
      "            )\n",
      "            (output): BertOutput(\n",
      "              (dense): Linear(in_features=3072, out_features=768, bias=True)\n",
      "              (LayerNorm): LayerNorm((768,), eps=1e-05, elementwise_affine=True)\n",
      "              (dropout): Dropout(p=0.1, inplace=False)\n",
      "            )\n",
      "          )\n",
      "          (3): BertLayer(\n",
      "            (attention): BertAttention(\n",
      "              (self): BertSelfAttention(\n",
      "                (query): Linear(in_features=768, out_features=768, bias=True)\n",
      "                (key): Linear(in_features=768, out_features=768, bias=True)\n",
      "                (value): Linear(in_features=768, out_features=768, bias=True)\n",
      "                (dropout): Dropout(p=0.1, inplace=False)\n",
      "              )\n",
      "              (output): BertSelfOutput(\n",
      "                (dense): Linear(in_features=768, out_features=768, bias=True)\n",
      "                (LayerNorm): LayerNorm((768,), eps=1e-05, elementwise_affine=True)\n",
      "                (dropout): Dropout(p=0.1, inplace=False)\n",
      "              )\n",
      "            )\n",
      "            (intermediate): BertIntermediate(\n",
      "              (dense): Linear(in_features=768, out_features=3072, bias=True)\n",
      "            )\n",
      "            (output): BertOutput(\n",
      "              (dense): Linear(in_features=3072, out_features=768, bias=True)\n",
      "              (LayerNorm): LayerNorm((768,), eps=1e-05, elementwise_affine=True)\n",
      "              (dropout): Dropout(p=0.1, inplace=False)\n",
      "            )\n",
      "          )\n",
      "          (4): BertLayer(\n",
      "            (attention): BertAttention(\n",
      "              (self): BertSelfAttention(\n",
      "                (query): Linear(in_features=768, out_features=768, bias=True)\n",
      "                (key): Linear(in_features=768, out_features=768, bias=True)\n",
      "                (value): Linear(in_features=768, out_features=768, bias=True)\n",
      "                (dropout): Dropout(p=0.1, inplace=False)\n",
      "              )\n",
      "              (output): BertSelfOutput(\n",
      "                (dense): Linear(in_features=768, out_features=768, bias=True)\n",
      "                (LayerNorm): LayerNorm((768,), eps=1e-05, elementwise_affine=True)\n",
      "                (dropout): Dropout(p=0.1, inplace=False)\n",
      "              )\n",
      "            )\n",
      "            (intermediate): BertIntermediate(\n",
      "              (dense): Linear(in_features=768, out_features=3072, bias=True)\n",
      "            )\n",
      "            (output): BertOutput(\n",
      "              (dense): Linear(in_features=3072, out_features=768, bias=True)\n",
      "              (LayerNorm): LayerNorm((768,), eps=1e-05, elementwise_affine=True)\n",
      "              (dropout): Dropout(p=0.1, inplace=False)\n",
      "            )\n",
      "          )\n",
      "          (5): BertLayer(\n",
      "            (attention): BertAttention(\n",
      "              (self): BertSelfAttention(\n",
      "                (query): Linear(in_features=768, out_features=768, bias=True)\n",
      "                (key): Linear(in_features=768, out_features=768, bias=True)\n",
      "                (value): Linear(in_features=768, out_features=768, bias=True)\n",
      "                (dropout): Dropout(p=0.1, inplace=False)\n",
      "              )\n",
      "              (output): BertSelfOutput(\n",
      "                (dense): Linear(in_features=768, out_features=768, bias=True)\n",
      "                (LayerNorm): LayerNorm((768,), eps=1e-05, elementwise_affine=True)\n",
      "                (dropout): Dropout(p=0.1, inplace=False)\n",
      "              )\n",
      "            )\n",
      "            (intermediate): BertIntermediate(\n",
      "              (dense): Linear(in_features=768, out_features=3072, bias=True)\n",
      "            )\n",
      "            (output): BertOutput(\n",
      "              (dense): Linear(in_features=3072, out_features=768, bias=True)\n",
      "              (LayerNorm): LayerNorm((768,), eps=1e-05, elementwise_affine=True)\n",
      "              (dropout): Dropout(p=0.1, inplace=False)\n",
      "            )\n",
      "          )\n",
      "          (6): BertLayer(\n",
      "            (attention): BertAttention(\n",
      "              (self): BertSelfAttention(\n",
      "                (query): Linear(in_features=768, out_features=768, bias=True)\n",
      "                (key): Linear(in_features=768, out_features=768, bias=True)\n",
      "                (value): Linear(in_features=768, out_features=768, bias=True)\n",
      "                (dropout): Dropout(p=0.1, inplace=False)\n",
      "              )\n",
      "              (output): BertSelfOutput(\n",
      "                (dense): Linear(in_features=768, out_features=768, bias=True)\n",
      "                (LayerNorm): LayerNorm((768,), eps=1e-05, elementwise_affine=True)\n",
      "                (dropout): Dropout(p=0.1, inplace=False)\n",
      "              )\n",
      "            )\n",
      "            (intermediate): BertIntermediate(\n",
      "              (dense): Linear(in_features=768, out_features=3072, bias=True)\n",
      "            )\n",
      "            (output): BertOutput(\n",
      "              (dense): Linear(in_features=3072, out_features=768, bias=True)\n",
      "              (LayerNorm): LayerNorm((768,), eps=1e-05, elementwise_affine=True)\n",
      "              (dropout): Dropout(p=0.1, inplace=False)\n",
      "            )\n",
      "          )\n",
      "          (7): BertLayer(\n",
      "            (attention): BertAttention(\n",
      "              (self): BertSelfAttention(\n",
      "                (query): Linear(in_features=768, out_features=768, bias=True)\n",
      "                (key): Linear(in_features=768, out_features=768, bias=True)\n",
      "                (value): Linear(in_features=768, out_features=768, bias=True)\n",
      "                (dropout): Dropout(p=0.1, inplace=False)\n",
      "              )\n",
      "              (output): BertSelfOutput(\n",
      "                (dense): Linear(in_features=768, out_features=768, bias=True)\n",
      "                (LayerNorm): LayerNorm((768,), eps=1e-05, elementwise_affine=True)\n",
      "                (dropout): Dropout(p=0.1, inplace=False)\n",
      "              )\n",
      "            )\n",
      "            (intermediate): BertIntermediate(\n",
      "              (dense): Linear(in_features=768, out_features=3072, bias=True)\n",
      "            )\n",
      "            (output): BertOutput(\n",
      "              (dense): Linear(in_features=3072, out_features=768, bias=True)\n",
      "              (LayerNorm): LayerNorm((768,), eps=1e-05, elementwise_affine=True)\n",
      "              (dropout): Dropout(p=0.1, inplace=False)\n",
      "            )\n",
      "          )\n",
      "          (8): BertLayer(\n",
      "            (attention): BertAttention(\n",
      "              (self): BertSelfAttention(\n",
      "                (query): Linear(in_features=768, out_features=768, bias=True)\n",
      "                (key): Linear(in_features=768, out_features=768, bias=True)\n",
      "                (value): Linear(in_features=768, out_features=768, bias=True)\n",
      "                (dropout): Dropout(p=0.1, inplace=False)\n",
      "              )\n",
      "              (output): BertSelfOutput(\n",
      "                (dense): Linear(in_features=768, out_features=768, bias=True)\n",
      "                (LayerNorm): LayerNorm((768,), eps=1e-05, elementwise_affine=True)\n",
      "                (dropout): Dropout(p=0.1, inplace=False)\n",
      "              )\n",
      "            )\n",
      "            (intermediate): BertIntermediate(\n",
      "              (dense): Linear(in_features=768, out_features=3072, bias=True)\n",
      "            )\n",
      "            (output): BertOutput(\n",
      "              (dense): Linear(in_features=3072, out_features=768, bias=True)\n",
      "              (LayerNorm): LayerNorm((768,), eps=1e-05, elementwise_affine=True)\n",
      "              (dropout): Dropout(p=0.1, inplace=False)\n",
      "            )\n",
      "          )\n",
      "          (9): BertLayer(\n",
      "            (attention): BertAttention(\n",
      "              (self): BertSelfAttention(\n",
      "                (query): Linear(in_features=768, out_features=768, bias=True)\n",
      "                (key): Linear(in_features=768, out_features=768, bias=True)\n",
      "                (value): Linear(in_features=768, out_features=768, bias=True)\n",
      "                (dropout): Dropout(p=0.1, inplace=False)\n",
      "              )\n",
      "              (output): BertSelfOutput(\n",
      "                (dense): Linear(in_features=768, out_features=768, bias=True)\n",
      "                (LayerNorm): LayerNorm((768,), eps=1e-05, elementwise_affine=True)\n",
      "                (dropout): Dropout(p=0.1, inplace=False)\n",
      "              )\n",
      "            )\n",
      "            (intermediate): BertIntermediate(\n",
      "              (dense): Linear(in_features=768, out_features=3072, bias=True)\n",
      "            )\n",
      "            (output): BertOutput(\n",
      "              (dense): Linear(in_features=3072, out_features=768, bias=True)\n",
      "              (LayerNorm): LayerNorm((768,), eps=1e-05, elementwise_affine=True)\n",
      "              (dropout): Dropout(p=0.1, inplace=False)\n",
      "            )\n",
      "          )\n",
      "          (10): BertLayer(\n",
      "            (attention): BertAttention(\n",
      "              (self): BertSelfAttention(\n",
      "                (query): Linear(in_features=768, out_features=768, bias=True)\n",
      "                (key): Linear(in_features=768, out_features=768, bias=True)\n",
      "                (value): Linear(in_features=768, out_features=768, bias=True)\n",
      "                (dropout): Dropout(p=0.1, inplace=False)\n",
      "              )\n",
      "              (output): BertSelfOutput(\n",
      "                (dense): Linear(in_features=768, out_features=768, bias=True)\n",
      "                (LayerNorm): LayerNorm((768,), eps=1e-05, elementwise_affine=True)\n",
      "                (dropout): Dropout(p=0.1, inplace=False)\n",
      "              )\n",
      "            )\n",
      "            (intermediate): BertIntermediate(\n",
      "              (dense): Linear(in_features=768, out_features=3072, bias=True)\n",
      "            )\n",
      "            (output): BertOutput(\n",
      "              (dense): Linear(in_features=3072, out_features=768, bias=True)\n",
      "              (LayerNorm): LayerNorm((768,), eps=1e-05, elementwise_affine=True)\n",
      "              (dropout): Dropout(p=0.1, inplace=False)\n",
      "            )\n",
      "          )\n",
      "          (11): BertLayer(\n",
      "            (attention): BertAttention(\n",
      "              (self): BertSelfAttention(\n",
      "                (query): Linear(in_features=768, out_features=768, bias=True)\n",
      "                (key): Linear(in_features=768, out_features=768, bias=True)\n",
      "                (value): Linear(in_features=768, out_features=768, bias=True)\n",
      "                (dropout): Dropout(p=0.1, inplace=False)\n",
      "              )\n",
      "              (output): BertSelfOutput(\n",
      "                (dense): Linear(in_features=768, out_features=768, bias=True)\n",
      "                (LayerNorm): LayerNorm((768,), eps=1e-05, elementwise_affine=True)\n",
      "                (dropout): Dropout(p=0.1, inplace=False)\n",
      "              )\n",
      "            )\n",
      "            (intermediate): BertIntermediate(\n",
      "              (dense): Linear(in_features=768, out_features=3072, bias=True)\n",
      "            )\n",
      "            (output): BertOutput(\n",
      "              (dense): Linear(in_features=3072, out_features=768, bias=True)\n",
      "              (LayerNorm): LayerNorm((768,), eps=1e-05, elementwise_affine=True)\n",
      "              (dropout): Dropout(p=0.1, inplace=False)\n",
      "            )\n",
      "          )\n",
      "        )\n",
      "      )\n",
      "      (pooler): BertPooler(\n",
      "        (dense): Linear(in_features=768, out_features=768, bias=True)\n",
      "        (activation): Tanh()\n",
      "      )\n",
      "    )\n",
      "    (classifier): RobertaClassificationHead(\n",
      "      (dense): Linear(in_features=768, out_features=768, bias=True)\n",
      "      (dropout): Dropout(p=0.1, inplace=False)\n",
      "      (out_proj): Linear(in_features=768, out_features=27, bias=True)\n",
      "    )\n",
      "  )\n",
      ")\n"
     ]
    }
   ],
   "source": [
    "# To use discriminative layer training and gradual unfreezing, split the model into groups.\n",
    "print(learner.model)"
   ]
  },
  {
   "cell_type": "code",
   "execution_count": 124,
   "metadata": {
    "Collapsed": "false",
    "colab": {
     "base_uri": "https://localhost:8080/",
     "height": 35
    },
    "colab_type": "code",
    "executionInfo": {
     "elapsed": 1348,
     "status": "ok",
     "timestamp": 1578094578584,
     "user": {
      "displayName": "Oleg Polakow",
      "photoUrl": "https://lh4.googleusercontent.com/-OxrfQHAWmSQ/AAAAAAAAAAI/AAAAAAAABR4/cis0IgU-Avs/s64/photo.jpg",
      "userId": "08729449616485726726"
     },
     "user_tz": -60
    },
    "id": "7_cAMquv-bbR",
    "outputId": "121843bc-f82e-41c4-e2c4-f60f9ce84bb7"
   },
   "outputs": [
    {
     "name": "stdout",
     "output_type": "stream",
     "text": [
      "Learner split in 14 groups\n"
     ]
    }
   ],
   "source": [
    "# For roberta-base\n",
    "list_layers = [learner.model.transformer.roberta.embeddings,\n",
    "              *learner.model.transformer.roberta.encoder.layer,\n",
    "              learner.model.transformer.roberta.pooler]\n",
    "              \n",
    "learner.split(list_layers)\n",
    "num_groups = len(learner.layer_groups)\n",
    "print('Learner split in', num_groups, 'groups')"
   ]
  },
  {
   "cell_type": "code",
   "execution_count": null,
   "metadata": {
    "Collapsed": "false",
    "colab": {},
    "colab_type": "code",
    "id": "rrK_4WB8CTpT"
   },
   "outputs": [],
   "source": [
    "seed_all(SEED)"
   ]
  },
  {
   "cell_type": "code",
   "execution_count": null,
   "metadata": {
    "Collapsed": "false",
    "colab": {},
    "colab_type": "code",
    "id": "BxgEGfevCl4_"
   },
   "outputs": [],
   "source": [
    "learner.freeze_to(-1)"
   ]
  },
  {
   "cell_type": "code",
   "execution_count": 127,
   "metadata": {
    "Collapsed": "false",
    "colab": {
     "base_uri": "https://localhost:8080/",
     "height": 35
    },
    "colab_type": "code",
    "executionInfo": {
     "elapsed": 23295,
     "status": "ok",
     "timestamp": 1578094602944,
     "user": {
      "displayName": "Oleg Polakow",
      "photoUrl": "https://lh4.googleusercontent.com/-OxrfQHAWmSQ/AAAAAAAAAAI/AAAAAAAABR4/cis0IgU-Avs/s64/photo.jpg",
      "userId": "08729449616485726726"
     },
     "user_tz": -60
    },
    "id": "Nk6gl-qfCn40",
    "outputId": "0fcde15b-7fdb-4ff9-be2e-1b44d89d86bb"
   },
   "outputs": [
    {
     "data": {
      "text/html": [],
      "text/plain": [
       "<IPython.core.display.HTML object>"
      ]
     },
     "metadata": {
      "tags": []
     },
     "output_type": "display_data"
    },
    {
     "name": "stdout",
     "output_type": "stream",
     "text": [
      "LR Finder is complete, type {learner_name}.recorder.plot() to see the graph.\n"
     ]
    }
   ],
   "source": [
    "learner.lr_find()"
   ]
  },
  {
   "cell_type": "code",
   "execution_count": 128,
   "metadata": {
    "Collapsed": "false",
    "colab": {
     "base_uri": "https://localhost:8080/",
     "height": 315
    },
    "colab_type": "code",
    "executionInfo": {
     "elapsed": 22426,
     "status": "ok",
     "timestamp": 1578094602946,
     "user": {
      "displayName": "Oleg Polakow",
      "photoUrl": "https://lh4.googleusercontent.com/-OxrfQHAWmSQ/AAAAAAAAAAI/AAAAAAAABR4/cis0IgU-Avs/s64/photo.jpg",
      "userId": "08729449616485726726"
     },
     "user_tz": -60
    },
    "id": "sc14BdneCwl0",
    "outputId": "95498550-3546-4b18-e5a7-713e009e04b6"
   },
   "outputs": [
    {
     "name": "stdout",
     "output_type": "stream",
     "text": [
      "Min numerical gradient: 2.75E-04\n",
      "Min loss divided by 10: 1.74E-04\n"
     ]
    },
    {
     "data": {
      "image/png": "[encoded data removed]",
      "text/plain": [
       "<Figure size 432x288 with 1 Axes>"
      ]
     },
     "metadata": {
      "tags": []
     },
     "output_type": "display_data"
    }
   ],
   "source": [
    "learner.recorder.plot(skip_end=10, suggestion=True)\n",
    "# A good upper bound is not on the lowest point, but about a factor of 10 to the left.\n",
    "# A good lower bound is the upper bound, divided by a factor 6."
   ]
  },
  {
   "cell_type": "code",
   "execution_count": 129,
   "metadata": {
    "Collapsed": "false",
    "colab": {
     "base_uri": "https://localhost:8080/",
     "height": 328
    },
    "colab_type": "code",
    "executionInfo": {
     "elapsed": 836991,
     "status": "ok",
     "timestamp": 1578095418551,
     "user": {
      "displayName": "Oleg Polakow",
      "photoUrl": "https://lh4.googleusercontent.com/-OxrfQHAWmSQ/AAAAAAAAAAI/AAAAAAAABR4/cis0IgU-Avs/s64/photo.jpg",
      "userId": "08729449616485726726"
     },
     "user_tz": -60
    },
    "id": "IhIjqOsZDCyd",
    "outputId": "c5f96a71-64b8-43b9-a9dd-5c9d0a308ee4"
   },
   "outputs": [
    {
     "data": {
      "text/html": [
       "<table border=\"1\" class=\"dataframe\">\n",
       "  <thead>\n",
       "    <tr style=\"text-align: left;\">\n",
       "      <th>epoch</th>\n",
       "      <th>train_loss</th>\n",
       "      <th>valid_loss</th>\n",
       "      <th>accuracy_thresh</th>\n",
       "      <th>fbeta</th>\n",
       "      <th>time</th>\n",
       "    </tr>\n",
       "  </thead>\n",
       "  <tbody>\n",
       "    <tr>\n",
       "      <td>0</td>\n",
       "      <td>0.268233</td>\n",
       "      <td>0.255064</td>\n",
       "      <td>0.936881</td>\n",
       "      <td>0.533284</td>\n",
       "      <td>13:34</td>\n",
       "    </tr>\n",
       "  </tbody>\n",
       "</table>"
      ],
      "text/plain": [
       "<IPython.core.display.HTML object>"
      ]
     },
     "metadata": {
      "tags": []
     },
     "output_type": "display_data"
    },
    {
     "data": {
      "image/png": "[encoded data removed]",
      "text/plain": [
       "<Figure size 432x288 with 1 Axes>"
      ]
     },
     "metadata": {
      "tags": []
     },
     "output_type": "display_data"
    }
   ],
   "source": [
    "learner.fit_one_cycle(1, max_lr=3e-4, moms=(0.8, 0.7))"
   ]
  },
  {
   "cell_type": "code",
   "execution_count": null,
   "metadata": {
    "Collapsed": "false",
    "colab": {},
    "colab_type": "code",
    "id": "DxGoG1RWhAFx"
   },
   "outputs": [],
   "source": [
    "learner.save('first_cycle')"
   ]
  },
  {
   "cell_type": "code",
   "execution_count": null,
   "metadata": {
    "Collapsed": "false",
    "colab": {},
    "colab_type": "code",
    "id": "oP7yHMYxhBm2"
   },
   "outputs": [],
   "source": [
    "seed_all(SEED)\n",
    "learner.load('first_cycle');"
   ]
  },
  {
   "cell_type": "code",
   "execution_count": null,
   "metadata": {
    "Collapsed": "false",
    "colab": {},
    "colab_type": "code",
    "id": "FnP6X3nvhDp7"
   },
   "outputs": [],
   "source": [
    "learner.freeze_to(-2)"
   ]
  },
  {
   "cell_type": "code",
   "execution_count": 133,
   "metadata": {
    "Collapsed": "false",
    "colab": {
     "base_uri": "https://localhost:8080/",
     "height": 328
    },
    "colab_type": "code",
    "executionInfo": {
     "elapsed": 852866,
     "status": "ok",
     "timestamp": 1578096279987,
     "user": {
      "displayName": "Oleg Polakow",
      "photoUrl": "https://lh4.googleusercontent.com/-OxrfQHAWmSQ/AAAAAAAAAAI/AAAAAAAABR4/cis0IgU-Avs/s64/photo.jpg",
      "userId": "08729449616485726726"
     },
     "user_tz": -60
    },
    "id": "7qh0uQ93hGtG",
    "outputId": "b986c9a7-5eae-44f1-aa7f-c853e5f2aca8"
   },
   "outputs": [
    {
     "data": {
      "text/html": [
       "<table border=\"1\" class=\"dataframe\">\n",
       "  <thead>\n",
       "    <tr style=\"text-align: left;\">\n",
       "      <th>epoch</th>\n",
       "      <th>train_loss</th>\n",
       "      <th>valid_loss</th>\n",
       "      <th>accuracy_thresh</th>\n",
       "      <th>fbeta</th>\n",
       "      <th>time</th>\n",
       "    </tr>\n",
       "  </thead>\n",
       "  <tbody>\n",
       "    <tr>\n",
       "      <td>0</td>\n",
       "      <td>0.248165</td>\n",
       "      <td>0.229991</td>\n",
       "      <td>0.937614</td>\n",
       "      <td>0.619884</td>\n",
       "      <td>14:11</td>\n",
       "    </tr>\n",
       "  </tbody>\n",
       "</table>"
      ],
      "text/plain": [
       "<IPython.core.display.HTML object>"
      ]
     },
     "metadata": {
      "tags": []
     },
     "output_type": "display_data"
    },
    {
     "data": {
      "image/png": "[encoded data removed]",
      "text/plain": [
       "<Figure size 432x288 with 1 Axes>"
      ]
     },
     "metadata": {
      "tags": []
     },
     "output_type": "display_data"
    }
   ],
   "source": [
    "lr = 1e-5\n",
    "learner.fit_one_cycle(1, max_lr=slice(lr*0.95**num_groups, lr), moms=(0.8, 0.9))"
   ]
  },
  {
   "cell_type": "code",
   "execution_count": null,
   "metadata": {
    "Collapsed": "false",
    "colab": {},
    "colab_type": "code",
    "id": "RZlmHWlml9vs"
   },
   "outputs": [],
   "source": [
    "learner.save('second_cycle')"
   ]
  },
  {
   "cell_type": "code",
   "execution_count": null,
   "metadata": {
    "Collapsed": "false",
    "colab": {},
    "colab_type": "code",
    "id": "XkIL4vVEmBzH"
   },
   "outputs": [],
   "source": [
    "seed_all(SEED)\n",
    "learner.load('second_cycle');"
   ]
  },
  {
   "cell_type": "code",
   "execution_count": null,
   "metadata": {
    "Collapsed": "false",
    "colab": {},
    "colab_type": "code",
    "id": "1WJUHX5Pu9bH"
   },
   "outputs": [],
   "source": [
    "learner.unfreeze()"
   ]
  },
  {
   "cell_type": "code",
   "execution_count": 137,
   "metadata": {
    "Collapsed": "false",
    "colab": {
     "base_uri": "https://localhost:8080/",
     "height": 359
    },
    "colab_type": "code",
    "executionInfo": {
     "elapsed": 4848614,
     "status": "ok",
     "timestamp": 1578101459426,
     "user": {
      "displayName": "Oleg Polakow",
      "photoUrl": "https://lh4.googleusercontent.com/-OxrfQHAWmSQ/AAAAAAAAAAI/AAAAAAAABR4/cis0IgU-Avs/s64/photo.jpg",
      "userId": "08729449616485726726"
     },
     "user_tz": -60
    },
    "id": "RlK6emKJvAU7",
    "outputId": "b99a92ed-f34f-4b96-a376-a125565118fe"
   },
   "outputs": [
    {
     "data": {
      "text/html": [
       "<table border=\"1\" class=\"dataframe\">\n",
       "  <thead>\n",
       "    <tr style=\"text-align: left;\">\n",
       "      <th>epoch</th>\n",
       "      <th>train_loss</th>\n",
       "      <th>valid_loss</th>\n",
       "      <th>accuracy_thresh</th>\n",
       "      <th>fbeta</th>\n",
       "      <th>time</th>\n",
       "    </tr>\n",
       "  </thead>\n",
       "  <tbody>\n",
       "    <tr>\n",
       "      <td>0</td>\n",
       "      <td>0.202711</td>\n",
       "      <td>0.183094</td>\n",
       "      <td>0.949954</td>\n",
       "      <td>0.725017</td>\n",
       "      <td>38:52</td>\n",
       "    </tr>\n",
       "    <tr>\n",
       "      <td>1</td>\n",
       "      <td>0.168671</td>\n",
       "      <td>0.163616</td>\n",
       "      <td>0.955416</td>\n",
       "      <td>0.754366</td>\n",
       "      <td>41:54</td>\n",
       "    </tr>\n",
       "  </tbody>\n",
       "</table>"
      ],
      "text/plain": [
       "<IPython.core.display.HTML object>"
      ]
     },
     "metadata": {
      "tags": []
     },
     "output_type": "display_data"
    },
    {
     "data": {
      "image/png": "[encoded data removed]",
      "text/plain": [
       "<Figure size 432x288 with 1 Axes>"
      ]
     },
     "metadata": {
      "tags": []
     },
     "output_type": "display_data"
    }
   ],
   "source": [
    "lr = 1e-5\n",
    "learner.fit_one_cycle(2, max_lr=slice(lr*0.95**num_groups, lr), moms=(0.8, 0.9))"
   ]
  },
  {
   "cell_type": "code",
   "execution_count": null,
   "metadata": {
    "Collapsed": "false",
    "colab": {},
    "colab_type": "code",
    "id": "oQiNxLNcC9Xa"
   },
   "outputs": [],
   "source": [
    "learner.save('third_cycle')"
   ]
  },
  {
   "cell_type": "code",
   "execution_count": null,
   "metadata": {
    "Collapsed": "false",
    "colab": {},
    "colab_type": "code",
    "id": "axqzLcS0DCWm"
   },
   "outputs": [],
   "source": [
    "learner.load('third_cycle');"
   ]
  },
  {
   "cell_type": "markdown",
   "metadata": {
    "Collapsed": "false",
    "colab_type": "text",
    "id": "n-iXCDWPUrDE"
   },
   "source": [
    "## Evaluate model"
   ]
  },
  {
   "cell_type": "code",
   "execution_count": 140,
   "metadata": {
    "Collapsed": "false",
    "colab": {
     "base_uri": "https://localhost:8080/",
     "height": 17
    },
    "colab_type": "code",
    "executionInfo": {
     "elapsed": 630656,
     "status": "ok",
     "timestamp": 1578102570377,
     "user": {
      "displayName": "Oleg Polakow",
      "photoUrl": "https://lh4.googleusercontent.com/-OxrfQHAWmSQ/AAAAAAAAAAI/AAAAAAAABR4/cis0IgU-Avs/s64/photo.jpg",
      "userId": "08729449616485726726"
     },
     "user_tz": -60
    },
    "id": "DbX5oluAPVh8",
    "outputId": "3862ef3a-0117-4efe-ce9d-e6745bbef454"
   },
   "outputs": [
    {
     "data": {
      "text/html": [],
      "text/plain": [
       "<IPython.core.display.HTML object>"
      ]
     },
     "metadata": {
      "tags": []
     },
     "output_type": "display_data"
    }
   ],
   "source": [
    "train_pred, train_true = learner.get_preds(DatasetType.Train)"
   ]
  },
  {
   "cell_type": "code",
   "execution_count": 141,
   "metadata": {
    "Collapsed": "false",
    "colab": {
     "base_uri": "https://localhost:8080/",
     "height": 17
    },
    "colab_type": "code",
    "executionInfo": {
     "elapsed": 659490,
     "status": "ok",
     "timestamp": 1578102599743,
     "user": {
      "displayName": "Oleg Polakow",
      "photoUrl": "https://lh4.googleusercontent.com/-OxrfQHAWmSQ/AAAAAAAAAAI/AAAAAAAABR4/cis0IgU-Avs/s64/photo.jpg",
      "userId": "08729449616485726726"
     },
     "user_tz": -60
    },
    "id": "XuKbAaKSDqj2",
    "outputId": "b177cb05-2601-4752-e963-4a8787a95c59"
   },
   "outputs": [
    {
     "data": {
      "text/html": [],
      "text/plain": [
       "<IPython.core.display.HTML object>"
      ]
     },
     "metadata": {
      "tags": []
     },
     "output_type": "display_data"
    }
   ],
   "source": [
    "valid_pred, valid_true = learner.get_preds(DatasetType.Valid)"
   ]
  },
  {
   "cell_type": "code",
   "execution_count": 142,
   "metadata": {
    "Collapsed": "false",
    "colab": {
     "base_uri": "https://localhost:8080/",
     "height": 284
    },
    "colab_type": "code",
    "executionInfo": {
     "elapsed": 1712,
     "status": "ok",
     "timestamp": 1578102620819,
     "user": {
      "displayName": "Oleg Polakow",
      "photoUrl": "https://lh4.googleusercontent.com/-OxrfQHAWmSQ/AAAAAAAAAAI/AAAAAAAABR4/cis0IgU-Avs/s64/photo.jpg",
      "userId": "08729449616485726726"
     },
     "user_tz": -60
    },
    "id": "G1n5eJNDF3Fm",
    "outputId": "f11b0ddd-1e90-4988-ddc9-a8b4621d7d0a"
   },
   "outputs": [
    {
     "data": {
      "text/plain": [
       "<matplotlib.axes._subplots.AxesSubplot at 0x7f5642128550>"
      ]
     },
     "execution_count": 142,
     "metadata": {
      "tags": []
     },
     "output_type": "execute_result"
    },
    {
     "data": {
      "image/png": "[encoded data removed]",
      "text/plain": [
       "<Figure size 432x288 with 1 Axes>"
      ]
     },
     "metadata": {
      "tags": []
     },
     "output_type": "display_data"
    }
   ],
   "source": [
    "# Which thresh leads to a higher F1 score?\n",
    "threshes = np.arange(0.1, 0.8, 0.05)\n",
    "pd.DataFrame([(\n",
    "    fbeta(y_pred=train_pred, y_true=train_true, thresh=thresh, sigmoid=False).data.item(), \n",
    "    fbeta(y_pred=valid_pred, y_true=valid_true, thresh=thresh, sigmoid=False).data.item()\n",
    "    ) for thresh in threshes], columns=['train', 'valid'], index=threshes).plot()"
   ]
  },
  {
   "cell_type": "code",
   "execution_count": null,
   "metadata": {
    "Collapsed": "false",
    "colab": {},
    "colab_type": "code",
    "id": "3Or8N7C6WNPi"
   },
   "outputs": [],
   "source": [
    "opt_thresh = 0.3"
   ]
  },
  {
   "cell_type": "code",
   "execution_count": 144,
   "metadata": {
    "Collapsed": "false",
    "colab": {
     "base_uri": "https://localhost:8080/",
     "height": 53
    },
    "colab_type": "code",
    "executionInfo": {
     "elapsed": 1040,
     "status": "ok",
     "timestamp": 1578102638128,
     "user": {
      "displayName": "Oleg Polakow",
      "photoUrl": "https://lh4.googleusercontent.com/-OxrfQHAWmSQ/AAAAAAAAAAI/AAAAAAAABR4/cis0IgU-Avs/s64/photo.jpg",
      "userId": "08729449616485726726"
     },
     "user_tz": -60
    },
    "id": "OQw4xpk6Ec1m",
    "outputId": "cc8b98db-4d30-4282-da01-45c0cec708be"
   },
   "outputs": [
    {
     "name": "stdout",
     "output_type": "stream",
     "text": [
      "Train: tensor(0.9401)\n",
      "Valid: tensor(0.9389)\n"
     ]
    }
   ],
   "source": [
    "print(\"Train:\", accuracy_thresh(y_pred=train_pred, y_true=train_true, thresh=opt_thresh, sigmoid=False))\n",
    "print(\"Valid:\", accuracy_thresh(y_pred=valid_pred, y_true=valid_true, thresh=opt_thresh, sigmoid=False))"
   ]
  },
  {
   "cell_type": "code",
   "execution_count": null,
   "metadata": {
    "Collapsed": "false",
    "colab": {},
    "colab_type": "code",
    "id": "Y4M7HaKjbHMO"
   },
   "outputs": [],
   "source": [
    "# Convert tensor to numpy array\n",
    "valid_true_np = valid_true.detach().cpu().numpy().astype(int)\n",
    "valid_pred_np = (valid_pred.detach().cpu().numpy() > opt_thresh).astype(int)"
   ]
  },
  {
   "cell_type": "code",
   "execution_count": 147,
   "metadata": {
    "Collapsed": "false",
    "colab": {
     "base_uri": "https://localhost:8080/",
     "height": 577
    },
    "colab_type": "code",
    "executionInfo": {
     "elapsed": 1118,
     "status": "ok",
     "timestamp": 1578102679808,
     "user": {
      "displayName": "Oleg Polakow",
      "photoUrl": "https://lh4.googleusercontent.com/-OxrfQHAWmSQ/AAAAAAAAAAI/AAAAAAAABR4/cis0IgU-Avs/s64/photo.jpg",
      "userId": "08729449616485726726"
     },
     "user_tz": -60
    },
    "id": "_50Z1xxWVhnZ",
    "outputId": "4e04077b-a8ef-4587-9626-4d5171a28c19"
   },
   "outputs": [
    {
     "name": "stdout",
     "output_type": "stream",
     "text": [
      "             precision    recall  f1-score  support\n",
      "drama         0.767810  0.903326  0.830073   2255.0\n",
      "comedy        0.674344  0.893228  0.768504   1639.0\n",
      "romance       0.621488  0.835556  0.712796    900.0\n",
      "crime         0.634775  0.900783  0.744738    766.0\n",
      "family        0.484756  0.837945  0.614196    759.0\n",
      "documentary   0.565460  0.919940  0.700403    662.0\n",
      "reality-tv    0.675399  0.922240  0.779750    643.0\n",
      "mystery       0.491308  0.851030  0.622970    631.0\n",
      "action        0.495318  0.865794  0.630137    611.0\n",
      "animation     0.628788  0.917127  0.746067    543.0\n",
      "adventure     0.407407  0.764826  0.531628    489.0\n",
      "sci-fi        0.553130  0.846325  0.669014    449.0\n",
      "thriller      0.352647  0.832547  0.495439    424.0\n",
      "fantasy       0.416413  0.830303  0.554656    330.0\n",
      "talk-show     0.631579  0.936170  0.754286    282.0\n",
      "news          0.551515  0.879227  0.677840    207.0\n",
      "music         0.527660  0.821192  0.642487    151.0\n",
      "history       0.406475  0.758389  0.529274    149.0\n",
      "western       0.732143  0.891304  0.803922    138.0\n",
      "horror        0.327660  0.616000  0.427778    125.0\n",
      "game-show     0.657534  0.888889  0.755906    108.0\n",
      "sport         0.439716  0.746988  0.553571     83.0\n",
      "biography     0.244755  0.472973  0.322581     74.0\n",
      "war           0.513043  0.808219  0.627660     73.0\n",
      "musical       0.000000  0.000000  0.000000     36.0\n",
      "short         0.000000  0.000000  0.000000     28.0\n",
      "adult         1.000000  0.500000  0.666667      2.0\n"
     ]
    },
    {
     "name": "stderr",
     "output_type": "stream",
     "text": [
      "/usr/local/lib/python3.6/dist-packages/sklearn/metrics/classification.py:1437: UndefinedMetricWarning: Precision and F-score are ill-defined and being set to 0.0 in samples with no predicted labels.\n",
      "  'precision', 'predicted', average, warn_for)\n"
     ]
    }
   ],
   "source": [
    "from sklearn.metrics import classification_report\n",
    "\n",
    "# Classification report for genres\n",
    "true_np = valid_true.detach().cpu().numpy().astype(int)\n",
    "pred_np = (valid_pred.detach().cpu().numpy() > opt_thresh).astype(int)\n",
    "report_dict = classification_report(true_np, pred_np, target_names=learner.data.classes, output_dict=True)\n",
    "report_df = pd.DataFrame(report_dict).transpose()\n",
    "report_df = report_df.drop([\"samples avg\", \"weighted avg\", \"micro avg\", \"macro avg\"], axis=0)\n",
    "report_df = report_df.sort_values(by='support', ascending=False)\n",
    "\n",
    "print(report_df)"
   ]
  },
  {
   "cell_type": "markdown",
   "metadata": {
    "Collapsed": "false",
    "colab_type": "text",
    "id": "bTk-Mfnd2vRA"
   },
   "source": [
    "## Export model"
   ]
  },
  {
   "cell_type": "code",
   "execution_count": null,
   "metadata": {
    "Collapsed": "false",
    "colab": {},
    "colab_type": "code",
    "id": "2BBVk6IdV_cb"
   },
   "outputs": [],
   "source": [
    "# fastai's inference learner cannot retrieve source code for RoBERTa's multiple building blocks so use transformers functionality\n",
    "learner.model.transformer.save_pretrained(OUTPUT_DIR)"
   ]
  },
  {
   "cell_type": "code",
   "execution_count": 149,
   "metadata": {
    "Collapsed": "false",
    "colab": {
     "base_uri": "https://localhost:8080/",
     "height": 89
    },
    "colab_type": "code",
    "executionInfo": {
     "elapsed": 3126,
     "status": "ok",
     "timestamp": 1578102780133,
     "user": {
      "displayName": "Oleg Polakow",
      "photoUrl": "https://lh4.googleusercontent.com/-OxrfQHAWmSQ/AAAAAAAAAAI/AAAAAAAABR4/cis0IgU-Avs/s64/photo.jpg",
      "userId": "08729449616485726726"
     },
     "user_tz": -60
    },
    "id": "Js0r5J6F4WL3",
    "outputId": "f065e7e8-d1a5-4ae7-c1c2-1cf80f0fe16e"
   },
   "outputs": [
    {
     "data": {
      "text/plain": [
       "('drive/My Drive/Colab Notebooks/transformers/MoviePlots/genre_prediction/RoBERTa/output/vocab.json',\n",
       " 'drive/My Drive/Colab Notebooks/transformers/MoviePlots/genre_prediction/RoBERTa/output/merges.txt',\n",
       " 'drive/My Drive/Colab Notebooks/transformers/MoviePlots/genre_prediction/RoBERTa/output/special_tokens_map.json',\n",
       " 'drive/My Drive/Colab Notebooks/transformers/MoviePlots/genre_prediction/RoBERTa/output/added_tokens.json')"
      ]
     },
     "execution_count": 149,
     "metadata": {
      "tags": []
     },
     "output_type": "execute_result"
    }
   ],
   "source": [
    "roberta_tokenizer.save_pretrained(OUTPUT_DIR)"
   ]
  },
  {
   "cell_type": "code",
   "execution_count": null,
   "metadata": {
    "Collapsed": "false",
    "colab": {},
    "colab_type": "code",
    "id": "U_kp4apO5rdl"
   },
   "outputs": [],
   "source": [
    "# Save classes\n",
    "with open(OUTPUT_DIR/'classes.pkl', 'wb') as fp:\n",
    "    pickle.dump(learner.data.classes, fp)"
   ]
  },
  {
   "cell_type": "code",
   "execution_count": 151,
   "metadata": {
    "Collapsed": "false",
    "colab": {
     "base_uri": "https://localhost:8080/",
     "height": 71
    },
    "colab_type": "code",
    "executionInfo": {
     "elapsed": 3857,
     "status": "ok",
     "timestamp": 1578102786713,
     "user": {
      "displayName": "Oleg Polakow",
      "photoUrl": "https://lh4.googleusercontent.com/-OxrfQHAWmSQ/AAAAAAAAAAI/AAAAAAAABR4/cis0IgU-Avs/s64/photo.jpg",
      "userId": "08729449616485726726"
     },
     "user_tz": -60
    },
    "id": "BUSArK5Q2_Mm",
    "outputId": "88b097fd-d8b6-4167-ad7b-8269d0a68ed0"
   },
   "outputs": [
    {
     "name": "stdout",
     "output_type": "stream",
     "text": [
      "added_tokens.json  merges.txt\t      special_tokens_map.json\n",
      "classes.pkl\t   models\t      tokenizer_config.json\n",
      "config.json\t   pytorch_model.bin  vocab.json\n"
     ]
    }
   ],
   "source": [
    "!ls \"$OUTPUT_DIR\""
   ]
  },
  {
   "cell_type": "markdown",
   "metadata": {
    "Collapsed": "false",
    "colab_type": "text",
    "id": "QPHm5xZg4gCj"
   },
   "source": [
    "## Example inference"
   ]
  },
  {
   "cell_type": "code",
   "execution_count": null,
   "metadata": {
    "Collapsed": "false",
    "colab": {},
    "colab_type": "code",
    "id": "CsEB1z-H34-G"
   },
   "outputs": [],
   "source": [
    "tokenizer = RobertaTokenizer.from_pretrained(OUTPUT_DIR)\n",
    "model = RobertaForSequenceClassification.from_pretrained(OUTPUT_DIR)\n",
    "with open(OUTPUT_DIR/'classes.pkl', 'rb') as fp:\n",
    "    classes = pickle.load(fp)"
   ]
  },
  {
   "cell_type": "code",
   "execution_count": null,
   "metadata": {
    "Collapsed": "false",
    "colab": {},
    "colab_type": "code",
    "id": "eC3tOQJ25Kyh"
   },
   "outputs": [],
   "source": [
    "def predict_classes(text):\n",
    "    \"\"\"Returns the list of predicted genres for the text.\"\"\"\n",
    "    input_ids = torch.tensor(tokenizer.encode(text, add_special_tokens=True)).unsqueeze(0)\n",
    "    logits = model(input_ids)[0]\n",
    "    probs = torch.sigmoid(logits).detach().cpu().numpy()\n",
    "    preds = np.array(classes)[np.where(np.any(probs > 0.2, axis=0))[0]].tolist()\n",
    "    return preds"
   ]
  },
  {
   "cell_type": "code",
   "execution_count": 154,
   "metadata": {
    "Collapsed": "false",
    "colab": {
     "base_uri": "https://localhost:8080/",
     "height": 197
    },
    "colab_type": "code",
    "executionInfo": {
     "elapsed": 1329,
     "status": "ok",
     "timestamp": 1578102803373,
     "user": {
      "displayName": "Oleg Polakow",
      "photoUrl": "https://lh4.googleusercontent.com/-OxrfQHAWmSQ/AAAAAAAAAAI/AAAAAAAABR4/cis0IgU-Avs/s64/photo.jpg",
      "userId": "08729449616485726726"
     },
     "user_tz": -60
    },
    "id": "nQCrvaZu8GtK",
    "outputId": "989f234f-da7a-404b-847b-edb1a48a0b23"
   },
   "outputs": [
    {
     "data": {
      "text/plain": [
       "['action',\n",
       " 'adventure',\n",
       " 'crime',\n",
       " 'drama',\n",
       " 'fantasy',\n",
       " 'horror',\n",
       " 'mystery',\n",
       " 'romance',\n",
       " 'sci-fi',\n",
       " 'thriller']"
      ]
     },
     "execution_count": 154,
     "metadata": {
      "tags": []
     },
     "output_type": "execute_result"
    }
   ],
   "source": [
    "predict_classes(\"The affair between a politician and a contemporary dancer is affected by mysterious forces keeping the lovers apart.\")"
   ]
  },
  {
   "cell_type": "code",
   "execution_count": 155,
   "metadata": {
    "Collapsed": "false",
    "colab": {
     "base_uri": "https://localhost:8080/",
     "height": 35
    },
    "colab_type": "code",
    "executionInfo": {
     "elapsed": 980,
     "status": "ok",
     "timestamp": 1578102814013,
     "user": {
      "displayName": "Oleg Polakow",
      "photoUrl": "https://lh4.googleusercontent.com/-OxrfQHAWmSQ/AAAAAAAAAAI/AAAAAAAABR4/cis0IgU-Avs/s64/photo.jpg",
      "userId": "08729449616485726726"
     },
     "user_tz": -60
    },
    "id": "RuC5Lg-e8hMm",
    "outputId": "5a28d41b-ddbf-4f1a-9e23-4d2e7c257a75"
   },
   "outputs": [
    {
     "data": {
      "text/plain": [
       "['action', 'crime', 'drama', 'mystery', 'sci-fi', 'thriller']"
      ]
     },
     "execution_count": 155,
     "metadata": {
      "tags": []
     },
     "output_type": "execute_result"
    }
   ],
   "source": [
    "predict_classes(\"Three buddies wake up from a bachelor party in Las Vegas, with no memory of the previous night and the bachelor missing.\")"
   ]
  },
  {
   "cell_type": "code",
   "execution_count": 156,
   "metadata": {
    "Collapsed": "false",
    "colab": {
     "base_uri": "https://localhost:8080/",
     "height": 35
    },
    "colab_type": "code",
    "executionInfo": {
     "elapsed": 949,
     "status": "ok",
     "timestamp": 1578102820254,
     "user": {
      "displayName": "Oleg Polakow",
      "photoUrl": "https://lh4.googleusercontent.com/-OxrfQHAWmSQ/AAAAAAAAAAI/AAAAAAAABR4/cis0IgU-Avs/s64/photo.jpg",
      "userId": "08729449616485726726"
     },
     "user_tz": -60
    },
    "id": "cX8n9ybF8s7N",
    "outputId": "e80299d4-620d-438b-916c-0239cb887ae1"
   },
   "outputs": [
    {
     "data": {
      "text/plain": [
       "['comedy', 'drama']"
      ]
     },
     "execution_count": 156,
     "metadata": {
      "tags": []
     },
     "output_type": "execute_result"
    }
   ],
   "source": [
    "predict_classes(\"An insurance salesman discovers his whole life is actually a reality TV show.\")"
   ]
  },
  {
   "cell_type": "code",
   "execution_count": 157,
   "metadata": {
    "Collapsed": "false",
    "colab": {
     "base_uri": "https://localhost:8080/",
     "height": 161
    },
    "colab_type": "code",
    "executionInfo": {
     "elapsed": 1028,
     "status": "ok",
     "timestamp": 1578102825219,
     "user": {
      "displayName": "Oleg Polakow",
      "photoUrl": "https://lh4.googleusercontent.com/-OxrfQHAWmSQ/AAAAAAAAAAI/AAAAAAAABR4/cis0IgU-Avs/s64/photo.jpg",
      "userId": "08729449616485726726"
     },
     "user_tz": -60
    },
    "id": "7GqgZ_4_832G",
    "outputId": "af9682f3-c06a-4874-a38f-55cafd4c4e11"
   },
   "outputs": [
    {
     "data": {
      "text/plain": [
       "['comedy',\n",
       " 'drama',\n",
       " 'fantasy',\n",
       " 'horror',\n",
       " 'mystery',\n",
       " 'romance',\n",
       " 'sci-fi',\n",
       " 'thriller']"
      ]
     },
     "execution_count": 157,
     "metadata": {
      "tags": []
     },
     "output_type": "execute_result"
    }
   ],
   "source": [
    "predict_classes(\"A girl makes a wish on her thirteenth birthday, and wakes up the next day as a thirty-year-old woman.\")"
   ]
  },
  {
   "cell_type": "code",
   "execution_count": 158,
   "metadata": {
    "Collapsed": "false",
    "colab": {
     "base_uri": "https://localhost:8080/",
     "height": 161
    },
    "colab_type": "code",
    "executionInfo": {
     "elapsed": 981,
     "status": "ok",
     "timestamp": 1578102834341,
     "user": {
      "displayName": "Oleg Polakow",
      "photoUrl": "https://lh4.googleusercontent.com/-OxrfQHAWmSQ/AAAAAAAAAAI/AAAAAAAABR4/cis0IgU-Avs/s64/photo.jpg",
      "userId": "08729449616485726726"
     },
     "user_tz": -60
    },
    "id": "AIzOAnZb8-p3",
    "outputId": "b31a201f-8480-439c-eb40-ec93fc866ab0"
   },
   "outputs": [
    {
     "data": {
      "text/plain": [
       "['action',\n",
       " 'adventure',\n",
       " 'drama',\n",
       " 'fantasy',\n",
       " 'horror',\n",
       " 'mystery',\n",
       " 'sci-fi',\n",
       " 'thriller']"
      ]
     },
     "execution_count": 158,
     "metadata": {
      "tags": []
     },
     "output_type": "execute_result"
    }
   ],
   "source": [
    "predict_classes(\"A computer hacker learns from mysterious rebels about the true nature of his reality and his role in the war against its controllers.\")"
   ]
  },
  {
   "cell_type": "markdown",
   "metadata": {
    "Collapsed": "false"
   },
   "source": [
    "## References"
   ]
  },
  {
   "cell_type": "markdown",
   "metadata": {
    "Collapsed": "false",
    "colab": {},
    "colab_type": "code",
    "id": "OzgImTvlRk3_"
   },
   "source": [
    "- [Fastai with 🤗Transformers (BERT, RoBERTa, XLNet, XLM, DistilBERT)](https://towardsdatascience.com/fastai-with-transformers-bert-roberta-xlnet-xlm-distilbert-4f41ee18ecb2)\n",
    "- [Hugging Face Transformers GitHub](https://github.com/huggingface/transformers)\n",
    "- [Fastai documentation](https://docs.fast.ai/text.html)\n",
    "- [A Tutorial to Fine-Tuning BERT with Fast AI](https://mlexplained.com/2019/05/13/a-tutorial-to-fine-tuning-bert-with-fast-ai/)\n",
    "- [Using RoBERTa with Fastai for NLP](https://medium.com/analytics-vidhya/using-roberta-with-fastai-for-nlp-7ed3fed21f6c)\n",
    "- [Dealing with imbalanced datasets in pytorch - PyTorch Forums](https://discuss.pytorch.org/t/dealing-with-imbalanced-datasets-in-pytorch/22596/21)"
   ]
  },
  {
   "cell_type": "code",
   "execution_count": null,
   "metadata": {},
   "outputs": [],
   "source": []
  }
 ],
 "metadata": {
  "accelerator": "GPU",
  "colab": {
   "collapsed_sections": [],
   "name": "Training.ipynb",
   "provenance": [
    {
     "file_id": "1fszLQpa96TVPjNN6XSVLjtRHc63_gN2Y",
     "timestamp": 1573408375899
    }
   ]
  },
  "kernelspec": {
   "display_name": "Python 3",
   "language": "python",
   "name": "python3"
  },
  "language_info": {
   "codemirror_mode": {
    "name": "ipython",
    "version": 3
   },
   "file_extension": ".py",
   "mimetype": "text/x-python",
   "name": "python",
   "nbconvert_exporter": "python",
   "pygments_lexer": "ipython3",
   "version": "3.7.3"
  },
  "widgets": {
   "application/vnd.jupyter.widget-state+json": {
    "state": {},
    "version_major": 2,
    "version_minor": 0
   }
  }
 },
 "nbformat": 4,
 "nbformat_minor": 4
}
